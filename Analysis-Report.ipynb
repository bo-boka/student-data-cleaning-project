{
 "cells": [
  {
   "cell_type": "markdown",
   "id": "1de642c4-b703-45ca-a317-24e3caeaef9e",
   "metadata": {},
   "source": [
    "# Report"
   ]
  },
  {
   "cell_type": "code",
   "execution_count": 1,
   "id": "0cdf3883-6354-4602-b3fd-1b8f0fe7e7d7",
   "metadata": {},
   "outputs": [],
   "source": [
    "# Import modules\n",
    "import numpy as np\n",
    "import pandas as pd\n",
    "import matplotlib.pyplot as plt\n",
    "import seaborn as sb\n",
    "\n",
    "# Allows plots to be rendered inside the notebook\n",
    "%matplotlib inline"
   ]
  },
  {
   "cell_type": "code",
   "execution_count": null,
   "id": "ba9155f1-7995-4fc8-a91a-8c78f621ce79",
   "metadata": {},
   "outputs": [],
   "source": [
    "# Load files\n",
    "sis_data = pd.read_csv('./resources/sample_sis.csv')\n",
    "assessment_data = pd.read_csv('./resources/sample_assessment.csv')\n",
    "usage_data = pd.read_csv('./resources/sample_usage.csv')"
   ]
  }
 ],
 "metadata": {
  "kernelspec": {
   "display_name": "Python 3 (ipykernel)",
   "language": "python",
   "name": "python3"
  },
  "language_info": {
   "codemirror_mode": {
    "name": "ipython",
    "version": 3
   },
   "file_extension": ".py",
   "mimetype": "text/x-python",
   "name": "python",
   "nbconvert_exporter": "python",
   "pygments_lexer": "ipython3",
   "version": "3.9.21"
  }
 },
 "nbformat": 4,
 "nbformat_minor": 5
}
