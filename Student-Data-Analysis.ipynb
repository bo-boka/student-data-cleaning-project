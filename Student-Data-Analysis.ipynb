{
 "cells": [
  {
   "cell_type": "markdown",
   "metadata": {},
   "source": [
    "# Project Overview\n",
    "\n",
    "Project goal is to generate a cleaned and merged data file in csv format, given 3 ficticious datasets, and provide notes as to what was found in the data, including any missing data.\n",
    "\n",
    "## Provided Files:\n",
    "1. Assessment file (sample_assessment.csv): Manhattan School District standardized test results - please include Math score.\n",
    "2. Math product Usage file (sample_usage.csv): Please include both lessons completed and total minutes columns in the merged file. Students in grade levels 5, 6, 7, and 8 have access to the Math product.\n",
    "3. SIS file (sample_sis.csv): Please include all information listed in this file (all students in grade levels 5, 6, 7, and 8) and all columns.\n",
    "\n"
   ]
  },
  {
   "cell_type": "markdown",
   "metadata": {},
   "source": [
    "# Setup"
   ]
  },
  {
   "cell_type": "code",
   "execution_count": 1,
   "metadata": {},
   "outputs": [],
   "source": [
    "# Import modules\n",
    "import numpy as np\n",
    "import pandas as pd\n",
    "import matplotlib.pyplot as plt\n",
    "import seaborn as sb\n",
    "\n",
    "# Allows plots to be rendered inside the notebook\n",
    "%matplotlib inline"
   ]
  },
  {
   "cell_type": "code",
   "execution_count": 2,
   "metadata": {},
   "outputs": [],
   "source": [
    "# Load files\n",
    "sis_data = pd.read_csv('./resources/sample_sis.csv')\n",
    "assessment_data = pd.read_csv('./resources/sample_assessment.csv')\n",
    "usage_data = pd.read_csv('./resources/sample_usage.csv')"
   ]
  },
  {
   "cell_type": "code",
   "execution_count": 3,
   "metadata": {},
   "outputs": [],
   "source": [
    "# Create list of dataframes for ease of programming\n",
    "dataframes = [(\"SIS Data\", sis_data), (\"Assessment Data\", assessment_data), (\"Usage Data\", usage_data)]"
   ]
  },
  {
   "cell_type": "markdown",
   "metadata": {},
   "source": [
    "# Data Overview"
   ]
  },
  {
   "cell_type": "code",
   "execution_count": 40,
   "metadata": {},
   "outputs": [
    {
     "data": {
      "text/html": [
       "<div>\n",
       "<style scoped>\n",
       "    .dataframe tbody tr th:only-of-type {\n",
       "        vertical-align: middle;\n",
       "    }\n",
       "\n",
       "    .dataframe tbody tr th {\n",
       "        vertical-align: top;\n",
       "    }\n",
       "\n",
       "    .dataframe thead th {\n",
       "        text-align: right;\n",
       "    }\n",
       "</style>\n",
       "<table border=\"1\" class=\"dataframe\">\n",
       "  <thead>\n",
       "    <tr style=\"text-align: right;\">\n",
       "      <th></th>\n",
       "      <th>student_id</th>\n",
       "      <th>grade_level</th>\n",
       "      <th>race_ethnicity</th>\n",
       "      <th>gender</th>\n",
       "      <th>free_reduced_price_lunch</th>\n",
       "    </tr>\n",
       "  </thead>\n",
       "  <tbody>\n",
       "    <tr>\n",
       "      <th>0</th>\n",
       "      <td>1254353</td>\n",
       "      <td>7</td>\n",
       "      <td>White</td>\n",
       "      <td>Male</td>\n",
       "      <td>No</td>\n",
       "    </tr>\n",
       "    <tr>\n",
       "      <th>1</th>\n",
       "      <td>1254135</td>\n",
       "      <td>5</td>\n",
       "      <td>White</td>\n",
       "      <td>Male</td>\n",
       "      <td>NaN</td>\n",
       "    </tr>\n",
       "    <tr>\n",
       "      <th>2</th>\n",
       "      <td>1254423</td>\n",
       "      <td>8</td>\n",
       "      <td>Black/African American</td>\n",
       "      <td>Male</td>\n",
       "      <td>Reduced Price</td>\n",
       "    </tr>\n",
       "    <tr>\n",
       "      <th>3</th>\n",
       "      <td>1254598</td>\n",
       "      <td>8</td>\n",
       "      <td>White</td>\n",
       "      <td>Male</td>\n",
       "      <td>Free</td>\n",
       "    </tr>\n",
       "    <tr>\n",
       "      <th>4</th>\n",
       "      <td>1254562</td>\n",
       "      <td>6</td>\n",
       "      <td>Black/African American</td>\n",
       "      <td>Male</td>\n",
       "      <td>No</td>\n",
       "    </tr>\n",
       "  </tbody>\n",
       "</table>\n",
       "</div>"
      ],
      "text/plain": [
       "   student_id  grade_level          race_ethnicity gender  \\\n",
       "0     1254353            7                   White   Male   \n",
       "1     1254135            5                   White   Male   \n",
       "2     1254423            8  Black/African American   Male   \n",
       "3     1254598            8                   White   Male   \n",
       "4     1254562            6  Black/African American   Male   \n",
       "\n",
       "  free_reduced_price_lunch  \n",
       "0                       No  \n",
       "1                      NaN  \n",
       "2            Reduced Price  \n",
       "3                     Free  \n",
       "4                       No  "
      ]
     },
     "execution_count": 40,
     "metadata": {},
     "output_type": "execute_result"
    }
   ],
   "source": [
    "# View headers\n",
    "sis_data.head()"
   ]
  },
  {
   "cell_type": "code",
   "execution_count": 41,
   "metadata": {},
   "outputs": [
    {
     "data": {
      "text/html": [
       "<div>\n",
       "<style scoped>\n",
       "    .dataframe tbody tr th:only-of-type {\n",
       "        vertical-align: middle;\n",
       "    }\n",
       "\n",
       "    .dataframe tbody tr th {\n",
       "        vertical-align: top;\n",
       "    }\n",
       "\n",
       "    .dataframe thead th {\n",
       "        text-align: right;\n",
       "    }\n",
       "</style>\n",
       "<table border=\"1\" class=\"dataframe\">\n",
       "  <thead>\n",
       "    <tr style=\"text-align: right;\">\n",
       "      <th></th>\n",
       "      <th>student_id</th>\n",
       "      <th>student_number</th>\n",
       "      <th>subject</th>\n",
       "      <th>score</th>\n",
       "    </tr>\n",
       "  </thead>\n",
       "  <tbody>\n",
       "    <tr>\n",
       "      <th>0</th>\n",
       "      <td>1254397</td>\n",
       "      <td>54912357</td>\n",
       "      <td>ELA</td>\n",
       "      <td>190</td>\n",
       "    </tr>\n",
       "    <tr>\n",
       "      <th>1</th>\n",
       "      <td>1254204</td>\n",
       "      <td>54912164</td>\n",
       "      <td>ELA</td>\n",
       "      <td>567</td>\n",
       "    </tr>\n",
       "    <tr>\n",
       "      <th>2</th>\n",
       "      <td>1254785</td>\n",
       "      <td>54912745</td>\n",
       "      <td>ELA</td>\n",
       "      <td>390</td>\n",
       "    </tr>\n",
       "    <tr>\n",
       "      <th>3</th>\n",
       "      <td>1254308</td>\n",
       "      <td>54912268</td>\n",
       "      <td>Math</td>\n",
       "      <td>719</td>\n",
       "    </tr>\n",
       "    <tr>\n",
       "      <th>4</th>\n",
       "      <td>1254560</td>\n",
       "      <td>54912520</td>\n",
       "      <td>ELA</td>\n",
       "      <td>394</td>\n",
       "    </tr>\n",
       "  </tbody>\n",
       "</table>\n",
       "</div>"
      ],
      "text/plain": [
       "   student_id  student_number subject  score\n",
       "0     1254397        54912357     ELA    190\n",
       "1     1254204        54912164     ELA    567\n",
       "2     1254785        54912745     ELA    390\n",
       "3     1254308        54912268    Math    719\n",
       "4     1254560        54912520     ELA    394"
      ]
     },
     "execution_count": 41,
     "metadata": {},
     "output_type": "execute_result"
    }
   ],
   "source": [
    "assessment_data.head()"
   ]
  },
  {
   "cell_type": "code",
   "execution_count": 42,
   "metadata": {},
   "outputs": [
    {
     "data": {
      "text/html": [
       "<div>\n",
       "<style scoped>\n",
       "    .dataframe tbody tr th:only-of-type {\n",
       "        vertical-align: middle;\n",
       "    }\n",
       "\n",
       "    .dataframe tbody tr th {\n",
       "        vertical-align: top;\n",
       "    }\n",
       "\n",
       "    .dataframe thead th {\n",
       "        text-align: right;\n",
       "    }\n",
       "</style>\n",
       "<table border=\"1\" class=\"dataframe\">\n",
       "  <thead>\n",
       "    <tr style=\"text-align: right;\">\n",
       "      <th></th>\n",
       "      <th>student_id</th>\n",
       "      <th>lessons_completed</th>\n",
       "      <th>benchmark_1_level</th>\n",
       "      <th>benchmark_2_level</th>\n",
       "      <th>benchmark_3_level</th>\n",
       "      <th>benchmark_4_level</th>\n",
       "      <th>total_minutes</th>\n",
       "    </tr>\n",
       "  </thead>\n",
       "  <tbody>\n",
       "    <tr>\n",
       "      <th>0</th>\n",
       "      <td>1254110</td>\n",
       "      <td>13</td>\n",
       "      <td>level 2</td>\n",
       "      <td>level 1</td>\n",
       "      <td>level 3</td>\n",
       "      <td>level 2</td>\n",
       "      <td>47.808670</td>\n",
       "    </tr>\n",
       "    <tr>\n",
       "      <th>1</th>\n",
       "      <td>1254113</td>\n",
       "      <td>14</td>\n",
       "      <td>level 2</td>\n",
       "      <td>level 1</td>\n",
       "      <td>level4</td>\n",
       "      <td>level 1</td>\n",
       "      <td>156.792335</td>\n",
       "    </tr>\n",
       "    <tr>\n",
       "      <th>2</th>\n",
       "      <td>1254288</td>\n",
       "      <td>16</td>\n",
       "      <td>level 3</td>\n",
       "      <td>level 1</td>\n",
       "      <td>level 3</td>\n",
       "      <td>level 1</td>\n",
       "      <td>38.135959</td>\n",
       "    </tr>\n",
       "    <tr>\n",
       "      <th>3</th>\n",
       "      <td>1254095</td>\n",
       "      <td>15</td>\n",
       "      <td>level 3</td>\n",
       "      <td>level 1</td>\n",
       "      <td>level 1</td>\n",
       "      <td>level 1</td>\n",
       "      <td>18.257427</td>\n",
       "    </tr>\n",
       "    <tr>\n",
       "      <th>4</th>\n",
       "      <td>1254250</td>\n",
       "      <td>1</td>\n",
       "      <td>level 2</td>\n",
       "      <td>level 1</td>\n",
       "      <td>level 2</td>\n",
       "      <td>level 2</td>\n",
       "      <td>16.479016</td>\n",
       "    </tr>\n",
       "  </tbody>\n",
       "</table>\n",
       "</div>"
      ],
      "text/plain": [
       "   student_id  lessons_completed benchmark_1_level benchmark_2_level  \\\n",
       "0     1254110                 13           level 2           level 1   \n",
       "1     1254113                 14           level 2           level 1   \n",
       "2     1254288                 16           level 3           level 1   \n",
       "3     1254095                 15           level 3           level 1   \n",
       "4     1254250                  1           level 2           level 1   \n",
       "\n",
       "  benchmark_3_level benchmark_4_level  total_minutes  \n",
       "0           level 3           level 2      47.808670  \n",
       "1            level4           level 1     156.792335  \n",
       "2           level 3           level 1      38.135959  \n",
       "3           level 1           level 1      18.257427  \n",
       "4           level 2           level 2      16.479016  "
      ]
     },
     "execution_count": 42,
     "metadata": {},
     "output_type": "execute_result"
    }
   ],
   "source": [
    "usage_data.head()"
   ]
  },
  {
   "cell_type": "markdown",
   "metadata": {},
   "source": [
    "## Cursory Observations\n",
    "- Relationship column between files is Student ID (student_id).\n",
    "    - While the Usage & SIS files have a clearly labeled student_id column, the Assessment file has two possible columns that could be Student ID, either id or student_number. \n",
    "    - All id-related columns have 7 digits, but the id column in the Assessments file has similar leading numbers as the student_id columns in the other two files.\n",
    "- Additional header observations:\n",
    "    - File headers have incongruent formats- spacing vs underscores, mixed casing, includes slash character. \n",
    "    - The directions require “lessons completed”, whereas the column header is “lesson completed”.\n",
    "- NaN value is present in Free/Reduced Price Lunch.\n",
    "- Benchmark value format is inconsistent.\n",
    "- Since Math scores are the focus, I'll need to check & filter the subject column.\n",
    "- Since Grade Level determines access to the Usage file, I'll need to check and filter the grade_level column."
   ]
  },
  {
   "cell_type": "markdown",
   "metadata": {},
   "source": [
    "# Normalize Headers"
   ]
  },
  {
   "cell_type": "code",
   "execution_count": 4,
   "metadata": {},
   "outputs": [],
   "source": [
    "custom_mappings = {\n",
    "    'lesson_completed': 'lessons_completed',\n",
    "    'id': 'student_id'\n",
    "}\n",
    "\n",
    "for name, df in dataframes:\n",
    "    df.columns = df.columns.str.lower().str.replace(' ', '_').str.replace('/', '_').str.replace(r'[^\\w]', '')\n",
    "    if custom_mappings:\n",
    "        df.rename(columns=custom_mappings, inplace=True)\n"
   ]
  },
  {
   "cell_type": "markdown",
   "metadata": {},
   "source": [
    "# Analyze Data in Preparation for Merge"
   ]
  },
  {
   "cell_type": "code",
   "execution_count": 28,
   "metadata": {},
   "outputs": [
    {
     "name": "stdout",
     "output_type": "stream",
     "text": [
      "SIS Data Info:\n",
      "<class 'pandas.core.frame.DataFrame'>\n",
      "RangeIndex: 783 entries, 0 to 782\n",
      "Data columns (total 5 columns):\n",
      " #   Column                    Non-Null Count  Dtype \n",
      "---  ------                    --------------  ----- \n",
      " 0   student_id                783 non-null    int64 \n",
      " 1   grade_level               783 non-null    int64 \n",
      " 2   race_ethnicity            736 non-null    object\n",
      " 3   gender                    783 non-null    object\n",
      " 4   free_reduced_price_lunch  669 non-null    object\n",
      "dtypes: int64(2), object(3)\n",
      "memory usage: 30.7+ KB\n",
      "\n",
      "\n",
      "Assessment Data Info:\n",
      "<class 'pandas.core.frame.DataFrame'>\n",
      "RangeIndex: 1280 entries, 0 to 1279\n",
      "Data columns (total 4 columns):\n",
      " #   Column          Non-Null Count  Dtype \n",
      "---  ------          --------------  ----- \n",
      " 0   student_id      1280 non-null   int64 \n",
      " 1   student_number  1280 non-null   int64 \n",
      " 2   subject         1280 non-null   object\n",
      " 3   score           1280 non-null   int64 \n",
      "dtypes: int64(3), object(1)\n",
      "memory usage: 40.1+ KB\n",
      "\n",
      "\n",
      "Usage Data Info:\n",
      "<class 'pandas.core.frame.DataFrame'>\n",
      "RangeIndex: 349 entries, 0 to 348\n",
      "Data columns (total 7 columns):\n",
      " #   Column             Non-Null Count  Dtype  \n",
      "---  ------             --------------  -----  \n",
      " 0   student_id         349 non-null    int64  \n",
      " 1   lessons_completed  349 non-null    int64  \n",
      " 2   benchmark_1_level  349 non-null    object \n",
      " 3   benchmark_2_level  349 non-null    object \n",
      " 4   benchmark_3_level  349 non-null    object \n",
      " 5   benchmark_4_level  349 non-null    object \n",
      " 6   total_minutes      349 non-null    float64\n",
      "dtypes: float64(1), int64(2), object(4)\n",
      "memory usage: 19.2+ KB\n",
      "\n",
      "\n"
     ]
    }
   ],
   "source": [
    "for name, df in dataframes:\n",
    "    print(name, \"Info:\")\n",
    "    df.info()\n",
    "    print(\"\\n\")"
   ]
  },
  {
   "cell_type": "markdown",
   "metadata": {},
   "source": [
    "<div class=\"alert alert-block alert-success\">\n",
    "<b>Data Type Consistency</b> Column Data Types are as expected. Student ID's and other int-expected columns are integers. Columns with expected string values are objects. Total minutes are floats.\n",
    "</div>"
   ]
  },
  {
   "cell_type": "markdown",
   "metadata": {},
   "source": [
    "<div class=\"alert alert-block alert-danger\">\n",
    "<b>Null or NaN:</b> I can see there are Null or NaN values in the SIS Data for columns race/ethnicity and free/reduced price lunch, but these are non-essential columns.\n",
    "</div>"
   ]
  },
  {
   "cell_type": "markdown",
   "metadata": {},
   "source": [
    "## Check ID Columns"
   ]
  },
  {
   "cell_type": "code",
   "execution_count": 38,
   "metadata": {},
   "outputs": [
    {
     "data": {
      "text/plain": [
       "count    7.830000e+02\n",
       "mean     1.254464e+06\n",
       "std      2.261769e+02\n",
       "min      1.254073e+06\n",
       "25%      1.254268e+06\n",
       "50%      1.254464e+06\n",
       "75%      1.254660e+06\n",
       "max      1.254855e+06\n",
       "Name: student_id, dtype: float64"
      ]
     },
     "execution_count": 38,
     "metadata": {},
     "output_type": "execute_result"
    }
   ],
   "source": [
    "# SIS IDs\n",
    "sis_data.describe()['student_id']"
   ]
  },
  {
   "cell_type": "code",
   "execution_count": 42,
   "metadata": {},
   "outputs": [
    {
     "data": {
      "text/plain": [
       "count    1.280000e+03\n",
       "mean     1.254502e+06\n",
       "std      1.848241e+02\n",
       "min      1.254183e+06\n",
       "25%      1.254343e+06\n",
       "50%      1.254502e+06\n",
       "75%      1.254662e+06\n",
       "max      1.254822e+06\n",
       "Name: student_id, dtype: float64"
      ]
     },
     "execution_count": 42,
     "metadata": {},
     "output_type": "execute_result"
    }
   ],
   "source": [
    "# Assessment IDs\n",
    "assessment_data.describe()['student_id']"
   ]
  },
  {
   "cell_type": "code",
   "execution_count": 43,
   "metadata": {},
   "outputs": [
    {
     "data": {
      "text/plain": [
       "count    3.490000e+02\n",
       "mean     1.254239e+06\n",
       "std      1.008919e+02\n",
       "min      1.254065e+06\n",
       "25%      1.254152e+06\n",
       "50%      1.254239e+06\n",
       "75%      1.254326e+06\n",
       "max      1.254413e+06\n",
       "Name: student_id, dtype: float64"
      ]
     },
     "execution_count": 43,
     "metadata": {},
     "output_type": "execute_result"
    }
   ],
   "source": [
    "# Usage IDs\n",
    "usage_data.describe()['student_id']"
   ]
  },
  {
   "cell_type": "markdown",
   "metadata": {},
   "source": [
    "<div class=\"alert alert-block alert-success\">\n",
    "<b>No Messy Data in ID Columns</b> There are no outliers, negatives, zeros, or placeholder data in the Student ID columns in any data set.\n",
    "    <dl>\n",
    "        <dt>SIS Data: IQR=392, Threshold=588</dt>\n",
    "            <dd>- Min value above lower bound of 1,253,680</dd>\n",
    "            <dd>- Max value above lower bound of 1,255,248</dd>\n",
    "        <dt>Assessment Data: IQR=319, Threshhold=478.5</dt>\n",
    "            <dd>- Min value above lower bound of 1,253,704.5</dd>\n",
    "            <dd>- Max value above lower bound of 1,255,140.5</dd>\n",
    "        <dt>Usage Data: IQR=174, Threshold=261</dt>\n",
    "            <dd>- Min value above lower bound of 1,253,891</dd>\n",
    "            <dd>- Max value above lower bound of 1,254,587</dd>\n",
    "    </dl>\n",
    "</div>"
   ]
  },
  {
   "cell_type": "markdown",
   "metadata": {},
   "source": [
    "### Check ID Columns for Duplicates"
   ]
  },
  {
   "cell_type": "code",
   "execution_count": 59,
   "metadata": {},
   "outputs": [
    {
     "name": "stdout",
     "output_type": "stream",
     "text": [
      "SIS Data has duplicates?: False\n",
      "Assessment Data has duplicates?: True\n",
      "Usage Data has duplicates?: False\n"
     ]
    }
   ],
   "source": [
    "for name, df in dataframes:\n",
    "    print(f\"{name} has duplicates?: {df['student_id'].duplicated().any()}\")"
   ]
  },
  {
   "cell_type": "markdown",
   "metadata": {},
   "source": [
    "<div class=\"alert alert-block alert-warning\">\n",
    "<b>Duplicates as Expected:</b> Assessment Data has student scores for both Math & ELA. SIS & Usage have no duplicates. Assessment Data will need to be handled accordingly.\n",
    "</div>"
   ]
  },
  {
   "cell_type": "markdown",
   "metadata": {},
   "source": [
    "## Check Other Columns"
   ]
  },
  {
   "cell_type": "code",
   "execution_count": 68,
   "metadata": {},
   "outputs": [
    {
     "name": "stdout",
     "output_type": "stream",
     "text": [
      "Checking SIS Data...\n",
      "No inconsistencies found.\n",
      "Checking Assessment Data...\n",
      "No inconsistencies found.\n",
      "Checking Usage Data...\n",
      "  Column 'total_minutes' in Usage Data has outliers.\n",
      "  Column 'total_minutes' in Usage Data has less than 1.\n"
     ]
    }
   ],
   "source": [
    "# Check specific columns for values less than 0\n",
    "for name, df in dataframes:\n",
    "    print(f\"Checking {name}...\")\n",
    "    found = False\n",
    "    for column in df.select_dtypes(include=['number']).columns:\n",
    "        if column in df.columns and pd.api.types.is_numeric_dtype(df[column]):\n",
    "            Q1 = df[column].quantile(0.25)\n",
    "            Q3 = df[column].quantile(0.75)\n",
    "            IQR = Q3 - Q1\n",
    "            lower_bound = Q1 - 1.5 * IQR\n",
    "            upper_bound = Q3 + 1.5 * IQR\n",
    "            if (df[column] < lower_bound).any() | (df[column] > upper_bound).any():\n",
    "                found = True\n",
    "                print(f\"  Column '{column}' in {name} has outliers.\")\n",
    "            if (df[column] < 1).any():\n",
    "                found = True\n",
    "                print(f\"  Column '{column}' in {name} has less than 1.\")\n",
    "            if (df[column] == 0).any():\n",
    "                found = True\n",
    "                print(f\"  Column '{column}' in {name} has zeroes.\")\n",
    "            if (df[column] < 0).any():\n",
    "                found = True\n",
    "                print(f\"  Column '{column}' in {name} has negatives.\")\n",
    "\n",
    "    if (not found):\n",
    "        print(\"No inconsistencies found.\")"
   ]
  },
  {
   "cell_type": "code",
   "execution_count": 67,
   "metadata": {},
   "outputs": [
    {
     "data": {
      "text/plain": [
       "count    349.000000\n",
       "mean      76.705856\n",
       "std       56.142303\n",
       "min        0.167026\n",
       "25%       32.308333\n",
       "50%       65.030197\n",
       "75%      111.739739\n",
       "max      280.517175\n",
       "Name: total_minutes, dtype: float64"
      ]
     },
     "execution_count": 67,
     "metadata": {},
     "output_type": "execute_result"
    }
   ],
   "source": [
    "# Usage IDs\n",
    "usage_data.describe()['total_minutes']"
   ]
  },
  {
   "cell_type": "code",
   "execution_count": 69,
   "metadata": {},
   "outputs": [
    {
     "name": "stdout",
     "output_type": "stream",
     "text": [
      "     student_id  lessons_completed benchmark_1_level benchmark_2_level  \\\n",
      "16      1254138                 12            level4           level 3   \n",
      "24      1254393                 16           level 2           level 2   \n",
      "69      1254280                  4           level 1           level 2   \n",
      "154     1254252                  9           level 3           level 3   \n",
      "171     1254367                 13            level4           level 3   \n",
      "179     1254255                 14           level 2           level 3   \n",
      "261     1254284                 23           level 3           level 2   \n",
      "\n",
      "    benchmark_3_level benchmark_4_level  total_minutes   issue_column  \n",
      "16            level 1           level 3     255.231657  total_minutes  \n",
      "24            level 1           level 1       0.167026  total_minutes  \n",
      "69            level 1           level 1     261.391669  total_minutes  \n",
      "154           level 2            level4     247.638391  total_minutes  \n",
      "171           level 2           level 2     280.517175  total_minutes  \n",
      "179            level4           level 1       0.865787  total_minutes  \n",
      "261            level4           level 3       0.856146  total_minutes  \n"
     ]
    }
   ],
   "source": [
    "def get_outliers_and_issues(df):\n",
    "    result_rows = pd.DataFrame()\n",
    "    \n",
    "    for column in df.select_dtypes(include=['number']).columns:\n",
    "        col_data = df[column]\n",
    "        \n",
    "        # Calculate IQR for outlier detection\n",
    "        Q1 = col_data.quantile(0.25)\n",
    "        Q3 = col_data.quantile(0.75)\n",
    "        IQR = Q3 - Q1\n",
    "        lower_bound = Q1 - 1.5 * IQR\n",
    "        upper_bound = Q3 + 1.5 * IQR\n",
    "        \n",
    "        # Identify rows with issues\n",
    "        issues = df[(col_data < lower_bound) | \n",
    "                    (col_data > upper_bound) | \n",
    "                    (col_data == 0) | \n",
    "                    (col_data < 0) |\n",
    "                    (col_data < 1)]\n",
    "        \n",
    "        # Add a column to indicate which issue was detected\n",
    "        issues = issues.copy()  # Avoid SettingWithCopyWarning\n",
    "        issues['issue_column'] = column  # Column with the detected issue\n",
    "        \n",
    "        result_rows = pd.concat([result_rows, issues])\n",
    "    \n",
    "    # Remove duplicates in case multiple columns flagged the same row\n",
    "    return result_rows.drop_duplicates()\n",
    "\n",
    "# Example Usage\n",
    "outlier_rows = get_outliers_and_issues(usage_data)\n",
    "print(outlier_rows)\n"
   ]
  },
  {
   "cell_type": "markdown",
   "metadata": {},
   "source": [
    "<div class=\"alert alert-block alert-danger\">\n",
    "<b>Total Minutes < 1</b> Data shows 3 students were able to complete between 14-23 lessons in less than 1 minute.\n",
    "</div>"
   ]
  },
  {
   "cell_type": "code",
   "execution_count": 55,
   "metadata": {},
   "outputs": [
    {
     "name": "stdout",
     "output_type": "stream",
     "text": [
      "[7 5 8 6]\n"
     ]
    }
   ],
   "source": [
    "# Check SIS Grade Levels are as expected (5-8)\n",
    "print(sis_data['grade_level'].unique())"
   ]
  },
  {
   "cell_type": "code",
   "execution_count": 10,
   "metadata": {},
   "outputs": [
    {
     "name": "stdout",
     "output_type": "stream",
     "text": [
      "['White' 'Black/African American' 'Two or More Races' nan 'Asian'\n",
      " 'Native Havaiian/Other Pacific Islander' 'American Indian/Alaska Native'\n",
      " 'Hispanic/Latino']\n"
     ]
    }
   ],
   "source": [
    "# Check SIS Race/Ethnicity values\n",
    "print(sis_data['race_ethnicity'].unique())"
   ]
  },
  {
   "cell_type": "code",
   "execution_count": 11,
   "metadata": {},
   "outputs": [
    {
     "name": "stdout",
     "output_type": "stream",
     "text": [
      "['No' nan 'Reduced Price' 'Free']\n"
     ]
    }
   ],
   "source": [
    "# Check SIS Free/Reduced Price Lunch values\n",
    "print(sis_data['free_reduced_price_lunch'].unique())"
   ]
  },
  {
   "cell_type": "code",
   "execution_count": 56,
   "metadata": {},
   "outputs": [
    {
     "name": "stdout",
     "output_type": "stream",
     "text": [
      "['ELA' 'Math']\n"
     ]
    }
   ],
   "source": [
    "# Check Assessment Subjects are as expected (Math or ELA)\n",
    "print(assessment_data['subject'].unique())"
   ]
  },
  {
   "cell_type": "markdown",
   "metadata": {},
   "source": [
    "## Handle SIS Data"
   ]
  },
  {
   "cell_type": "code",
   "execution_count": 39,
   "metadata": {},
   "outputs": [
    {
     "name": "stdout",
     "output_type": "stream",
     "text": [
      "                          Null Count  Blank Count\n",
      "student_id                         0            0\n",
      "grade_level                        0            0\n",
      "race_ethnicity                    47            0\n",
      "gender                             0            0\n",
      "free_reduced_price_lunch         114            0\n"
     ]
    }
   ],
   "source": [
    "# Check all SIS columns for NaN or blank values\n",
    "null_counts = sis_data.isnull().sum()\n",
    "blank_counts = sis_data.apply(lambda col: col.astype(str).str.strip().eq('').sum())\n",
    "\n",
    "# Combine into a summary DataFrame\n",
    "issue_summary = pd.DataFrame({\n",
    "    'Null Count': null_counts,\n",
    "    'Blank Count': blank_counts\n",
    "})\n",
    "print(issue_summary)\n"
   ]
  },
  {
   "cell_type": "code",
   "execution_count": 27,
   "metadata": {},
   "outputs": [
    {
     "name": "stdout",
     "output_type": "stream",
     "text": [
      "[1254825, 1254771, 1254180, 1254104, 1254079, 1254332, 1254503, 1254475, 1254810, 1254574, 1254378, 1254328, 1254327, 1254815, 1254364, 1254350, 1254745, 1254755, 1254756, 1254299, 1254545, 1254643, 1254488, 1254089, 1254778, 1254537, 1254291, 1254555, 1254616, 1254305, 1254214, 1254245, 1254387, 1254762, 1254663, 1254461, 1254689, 1254377, 1254449, 1254735, 1254518, 1254094, 1254249, 1254549, 1254493, 1254192, 1254708]\n"
     ]
    },
    {
     "data": {
      "text/html": [
       "<div>\n",
       "<style scoped>\n",
       "    .dataframe tbody tr th:only-of-type {\n",
       "        vertical-align: middle;\n",
       "    }\n",
       "\n",
       "    .dataframe tbody tr th {\n",
       "        vertical-align: top;\n",
       "    }\n",
       "\n",
       "    .dataframe thead th {\n",
       "        text-align: right;\n",
       "    }\n",
       "</style>\n",
       "<table border=\"1\" class=\"dataframe\">\n",
       "  <thead>\n",
       "    <tr style=\"text-align: right;\">\n",
       "      <th></th>\n",
       "      <th>student_id</th>\n",
       "      <th>grade_level</th>\n",
       "      <th>race_ethnicity</th>\n",
       "      <th>gender</th>\n",
       "      <th>free_reduced_price_lunch</th>\n",
       "    </tr>\n",
       "  </thead>\n",
       "  <tbody>\n",
       "    <tr>\n",
       "      <th>33</th>\n",
       "      <td>1254825</td>\n",
       "      <td>7</td>\n",
       "      <td>NaN</td>\n",
       "      <td>Male</td>\n",
       "      <td>NaN</td>\n",
       "    </tr>\n",
       "    <tr>\n",
       "      <th>35</th>\n",
       "      <td>1254771</td>\n",
       "      <td>5</td>\n",
       "      <td>NaN</td>\n",
       "      <td>Male</td>\n",
       "      <td>No</td>\n",
       "    </tr>\n",
       "    <tr>\n",
       "      <th>48</th>\n",
       "      <td>1254180</td>\n",
       "      <td>8</td>\n",
       "      <td>NaN</td>\n",
       "      <td>Male</td>\n",
       "      <td>NaN</td>\n",
       "    </tr>\n",
       "    <tr>\n",
       "      <th>61</th>\n",
       "      <td>1254104</td>\n",
       "      <td>8</td>\n",
       "      <td>NaN</td>\n",
       "      <td>Male</td>\n",
       "      <td>No</td>\n",
       "    </tr>\n",
       "    <tr>\n",
       "      <th>65</th>\n",
       "      <td>1254079</td>\n",
       "      <td>5</td>\n",
       "      <td>NaN</td>\n",
       "      <td>Female</td>\n",
       "      <td>No</td>\n",
       "    </tr>\n",
       "  </tbody>\n",
       "</table>\n",
       "</div>"
      ],
      "text/plain": [
       "    student_id  grade_level race_ethnicity  gender free_reduced_price_lunch\n",
       "33     1254825            7            NaN    Male                      NaN\n",
       "35     1254771            5            NaN    Male                       No\n",
       "48     1254180            8            NaN    Male                      NaN\n",
       "61     1254104            8            NaN    Male                       No\n",
       "65     1254079            5            NaN  Female                       No"
      ]
     },
     "execution_count": 27,
     "metadata": {},
     "output_type": "execute_result"
    }
   ],
   "source": [
    "# Get the IDs where NaN in SIS Race/Ethnicity column\n",
    "ids_with_race_nan = sis_data[sis_data['race_ethnicity'].isna()]['student_id'].tolist()\n",
    "print(ids_with_race_nan)\n",
    "\n",
    "# Filter rows with NaN in Race/Ethnicity column\n",
    "race_ethnicity_nans = sis_data[sis_data['race_ethnicity'].isna()]\n",
    "race_ethnicity_nans.head(5)"
   ]
  },
  {
   "cell_type": "code",
   "execution_count": 26,
   "metadata": {},
   "outputs": [
    {
     "name": "stdout",
     "output_type": "stream",
     "text": [
      "[1254135, 1254128, 1254588, 1254529, 1254825, 1254767, 1254180, 1254112, 1254308, 1254819, 1254292, 1254516, 1254799, 1254577, 1254489, 1254508, 1254258, 1254212, 1254166, 1254839, 1254614, 1254743, 1254436, 1254260, 1254617, 1254666, 1254441, 1254400, 1254583, 1254818, 1254628, 1254697, 1254726, 1254760, 1254201, 1254700, 1254167, 1254533, 1254654, 1254746, 1254363, 1254442, 1254824, 1254123, 1254541, 1254576, 1254478, 1254840, 1254426, 1254627, 1254664, 1254597, 1254343, 1254846, 1254324, 1254147, 1254145, 1254256, 1254836, 1254089, 1254276, 1254837, 1254551, 1254572, 1254605, 1254222, 1254103, 1254404, 1254233, 1254136, 1254672, 1254205, 1254099, 1254295, 1254710, 1254163, 1254655, 1254293, 1254220, 1254121, 1254111, 1254307, 1254543, 1254582, 1254278, 1254625, 1254741, 1254229, 1254369, 1254482, 1254134, 1254550, 1254368, 1254348, 1254590, 1254440, 1254641, 1254548, 1254281, 1254325, 1254411, 1254479, 1254785, 1254669, 1254091, 1254843, 1254702, 1254119, 1254829, 1254523, 1254624, 1254708, 1254283, 1254826]\n"
     ]
    },
    {
     "data": {
      "text/html": [
       "<div>\n",
       "<style scoped>\n",
       "    .dataframe tbody tr th:only-of-type {\n",
       "        vertical-align: middle;\n",
       "    }\n",
       "\n",
       "    .dataframe tbody tr th {\n",
       "        vertical-align: top;\n",
       "    }\n",
       "\n",
       "    .dataframe thead th {\n",
       "        text-align: right;\n",
       "    }\n",
       "</style>\n",
       "<table border=\"1\" class=\"dataframe\">\n",
       "  <thead>\n",
       "    <tr style=\"text-align: right;\">\n",
       "      <th></th>\n",
       "      <th>student_id</th>\n",
       "      <th>grade_level</th>\n",
       "      <th>race_ethnicity</th>\n",
       "      <th>gender</th>\n",
       "      <th>free_reduced_price_lunch</th>\n",
       "    </tr>\n",
       "  </thead>\n",
       "  <tbody>\n",
       "    <tr>\n",
       "      <th>1</th>\n",
       "      <td>1254135</td>\n",
       "      <td>5</td>\n",
       "      <td>White</td>\n",
       "      <td>Male</td>\n",
       "      <td>NaN</td>\n",
       "    </tr>\n",
       "    <tr>\n",
       "      <th>17</th>\n",
       "      <td>1254128</td>\n",
       "      <td>8</td>\n",
       "      <td>White</td>\n",
       "      <td>Male</td>\n",
       "      <td>NaN</td>\n",
       "    </tr>\n",
       "    <tr>\n",
       "      <th>19</th>\n",
       "      <td>1254588</td>\n",
       "      <td>7</td>\n",
       "      <td>Two or More Races</td>\n",
       "      <td>Male</td>\n",
       "      <td>NaN</td>\n",
       "    </tr>\n",
       "    <tr>\n",
       "      <th>25</th>\n",
       "      <td>1254529</td>\n",
       "      <td>7</td>\n",
       "      <td>Black/African American</td>\n",
       "      <td>Female</td>\n",
       "      <td>NaN</td>\n",
       "    </tr>\n",
       "    <tr>\n",
       "      <th>33</th>\n",
       "      <td>1254825</td>\n",
       "      <td>7</td>\n",
       "      <td>NaN</td>\n",
       "      <td>Male</td>\n",
       "      <td>NaN</td>\n",
       "    </tr>\n",
       "  </tbody>\n",
       "</table>\n",
       "</div>"
      ],
      "text/plain": [
       "    student_id  grade_level          race_ethnicity  gender  \\\n",
       "1      1254135            5                   White    Male   \n",
       "17     1254128            8                   White    Male   \n",
       "19     1254588            7       Two or More Races    Male   \n",
       "25     1254529            7  Black/African American  Female   \n",
       "33     1254825            7                     NaN    Male   \n",
       "\n",
       "   free_reduced_price_lunch  \n",
       "1                       NaN  \n",
       "17                      NaN  \n",
       "19                      NaN  \n",
       "25                      NaN  \n",
       "33                      NaN  "
      ]
     },
     "execution_count": 26,
     "metadata": {},
     "output_type": "execute_result"
    }
   ],
   "source": [
    "# Get the IDs where NaN in SIS Free/Reduced Lunch column\n",
    "ids_with_lunch_nan = sis_data[sis_data['free_reduced_price_lunch'].isna()]['student_id'].tolist()\n",
    "print(ids_with_lunch_nan)\n",
    "\n",
    "# Filter rows with NaN in SIS Free/Reduced Lunch column\n",
    "free_reduced_price_lunch_nans = sis_data[sis_data['free_reduced_price_lunch'].isna()]\n",
    "free_reduced_price_lunch_nans.head(5)"
   ]
  },
  {
   "cell_type": "markdown",
   "metadata": {},
   "source": [
    "## Handle Assessment Data"
   ]
  },
  {
   "cell_type": "code",
   "execution_count": 12,
   "metadata": {},
   "outputs": [
    {
     "name": "stdout",
     "output_type": "stream",
     "text": [
      "<class 'pandas.core.frame.DataFrame'>\n",
      "Index: 640 entries, 3 to 1279\n",
      "Data columns (total 4 columns):\n",
      " #   Column          Non-Null Count  Dtype \n",
      "---  ------          --------------  ----- \n",
      " 0   student_id      640 non-null    int64 \n",
      " 1   student_number  640 non-null    int64 \n",
      " 2   subject         640 non-null    object\n",
      " 3   score           640 non-null    int64 \n",
      "dtypes: int64(3), object(1)\n",
      "memory usage: 25.0+ KB\n"
     ]
    }
   ],
   "source": [
    "# Split Assessment Data into Math vs ELA\n",
    "assessment_ela = assessment_data[assessment_data['subject'] == 'ELA']\n",
    "assessment_math = assessment_data[assessment_data['subject'] == 'Math']\n",
    "\n",
    "assessment_math.info()"
   ]
  },
  {
   "cell_type": "code",
   "execution_count": 13,
   "metadata": {},
   "outputs": [],
   "source": [
    "# Create list of new dataframes for ease of programming\n",
    "math_dataframes = [(\"SIS Data\", sis_data), (\"Assessment Math Data\", assessment_math), (\"Usage Data\", usage_data)]\n"
   ]
  },
  {
   "cell_type": "code",
   "execution_count": 14,
   "metadata": {
    "scrolled": true
   },
   "outputs": [
    {
     "name": "stdout",
     "output_type": "stream",
     "text": [
      "SIS Data has duplicates?: False\n",
      "Assessment Math Data has duplicates?: False\n",
      "Usage Data has duplicates?: False\n"
     ]
    }
   ],
   "source": [
    "for name, df in math_dataframes:\n",
    "    print(f\"{name} has duplicates?: {df['student_id'].duplicated().any()}\")"
   ]
  },
  {
   "cell_type": "markdown",
   "metadata": {},
   "source": [
    "<div class=\"alert alert-block alert-success\">\n",
    "<b>No Duplicate IDs Found</b> No duplicates found after removing ELA from Assessments\n",
    "</div>"
   ]
  },
  {
   "cell_type": "code",
   "execution_count": 31,
   "metadata": {},
   "outputs": [
    {
     "name": "stdout",
     "output_type": "stream",
     "text": [
      "IDs in Assessment but not in SIS: 0\n",
      "IDs in Usage but not in SIS: 8\n",
      "IDs in SIS but not in Assessment: 143\n",
      "IDs in SIS but not in Usage: 442\n",
      "IDs in Assessment but not in Usage: 409\n",
      "IDs in Usage but not in Assessment: 118\n"
     ]
    }
   ],
   "source": [
    "# Comparing Differences between data\n",
    "assessment_math_ids = np.array(assessment_math['student_id'])\n",
    "assessment_ela_ids = np.array(assessment_ela['student_id'])\n",
    "usage_ids = np.array(usage_data['student_id'])\n",
    "sis_ids = np.array(sis_data['student_id'])\n",
    "\n",
    "print(\"IDs in Assessment but not in SIS:\", len(np.setdiff1d(assessment_math_ids, sis_ids)))\n",
    "print(\"IDs in Usage but not in SIS:\", len(np.setdiff1d(usage_ids, sis_ids)))\n",
    "\n",
    "print(\"IDs in SIS but not in Assessment:\", len(np.setdiff1d(sis_ids, assessment_math_ids)))\n",
    "print(\"IDs in SIS but not in Usage:\", len(np.setdiff1d(sis_ids, usage_ids)))\n",
    "\n",
    "print(\"IDs in Assessment but not in Usage:\", len(np.setdiff1d(assessment_math_ids, usage_ids)))\n",
    "print(\"IDs in Usage but not in Assessment:\", len(np.setdiff1d(usage_ids, assessment_math_ids)))\n"
   ]
  },
  {
   "cell_type": "code",
   "execution_count": 44,
   "metadata": {
    "scrolled": true
   },
   "outputs": [
    {
     "name": "stdout",
     "output_type": "stream",
     "text": [
      "IDs in Usage but not in SIS: [1254065 1254066 1254067 1254068 1254069 1254070 1254071 1254072]\n"
     ]
    },
    {
     "data": {
      "text/html": [
       "<div>\n",
       "<style scoped>\n",
       "    .dataframe tbody tr th:only-of-type {\n",
       "        vertical-align: middle;\n",
       "    }\n",
       "\n",
       "    .dataframe tbody tr th {\n",
       "        vertical-align: top;\n",
       "    }\n",
       "\n",
       "    .dataframe thead th {\n",
       "        text-align: right;\n",
       "    }\n",
       "</style>\n",
       "<table border=\"1\" class=\"dataframe\">\n",
       "  <thead>\n",
       "    <tr style=\"text-align: right;\">\n",
       "      <th></th>\n",
       "      <th>student_id</th>\n",
       "      <th>lessons_completed</th>\n",
       "      <th>benchmark_1_level</th>\n",
       "      <th>benchmark_2_level</th>\n",
       "      <th>benchmark_3_level</th>\n",
       "      <th>benchmark_4_level</th>\n",
       "      <th>total_minutes</th>\n",
       "    </tr>\n",
       "  </thead>\n",
       "  <tbody>\n",
       "    <tr>\n",
       "      <th>40</th>\n",
       "      <td>1254070</td>\n",
       "      <td>7</td>\n",
       "      <td>level4</td>\n",
       "      <td>level 3</td>\n",
       "      <td>level 1</td>\n",
       "      <td>level4</td>\n",
       "      <td>134.195032</td>\n",
       "    </tr>\n",
       "    <tr>\n",
       "      <th>46</th>\n",
       "      <td>1254069</td>\n",
       "      <td>23</td>\n",
       "      <td>level4</td>\n",
       "      <td>level 2</td>\n",
       "      <td>level 3</td>\n",
       "      <td>level 1</td>\n",
       "      <td>59.247430</td>\n",
       "    </tr>\n",
       "    <tr>\n",
       "      <th>77</th>\n",
       "      <td>1254065</td>\n",
       "      <td>5</td>\n",
       "      <td>level4</td>\n",
       "      <td>level 3</td>\n",
       "      <td>level 1</td>\n",
       "      <td>level4</td>\n",
       "      <td>124.325568</td>\n",
       "    </tr>\n",
       "    <tr>\n",
       "      <th>144</th>\n",
       "      <td>1254072</td>\n",
       "      <td>24</td>\n",
       "      <td>level 1</td>\n",
       "      <td>level 3</td>\n",
       "      <td>level 1</td>\n",
       "      <td>level 3</td>\n",
       "      <td>129.205541</td>\n",
       "    </tr>\n",
       "    <tr>\n",
       "      <th>200</th>\n",
       "      <td>1254068</td>\n",
       "      <td>18</td>\n",
       "      <td>level 3</td>\n",
       "      <td>level 3</td>\n",
       "      <td>level4</td>\n",
       "      <td>level 1</td>\n",
       "      <td>5.879212</td>\n",
       "    </tr>\n",
       "    <tr>\n",
       "      <th>221</th>\n",
       "      <td>1254066</td>\n",
       "      <td>16</td>\n",
       "      <td>level 1</td>\n",
       "      <td>level 1</td>\n",
       "      <td>level4</td>\n",
       "      <td>level 3</td>\n",
       "      <td>12.492581</td>\n",
       "    </tr>\n",
       "    <tr>\n",
       "      <th>263</th>\n",
       "      <td>1254067</td>\n",
       "      <td>4</td>\n",
       "      <td>level 2</td>\n",
       "      <td>level4</td>\n",
       "      <td>level 2</td>\n",
       "      <td>level 2</td>\n",
       "      <td>63.419238</td>\n",
       "    </tr>\n",
       "    <tr>\n",
       "      <th>309</th>\n",
       "      <td>1254071</td>\n",
       "      <td>14</td>\n",
       "      <td>level 2</td>\n",
       "      <td>level 3</td>\n",
       "      <td>level4</td>\n",
       "      <td>level 2</td>\n",
       "      <td>228.975415</td>\n",
       "    </tr>\n",
       "  </tbody>\n",
       "</table>\n",
       "</div>"
      ],
      "text/plain": [
       "     student_id  lessons_completed benchmark_1_level benchmark_2_level  \\\n",
       "40      1254070                  7            level4           level 3   \n",
       "46      1254069                 23            level4           level 2   \n",
       "77      1254065                  5            level4           level 3   \n",
       "144     1254072                 24           level 1           level 3   \n",
       "200     1254068                 18           level 3           level 3   \n",
       "221     1254066                 16           level 1           level 1   \n",
       "263     1254067                  4           level 2            level4   \n",
       "309     1254071                 14           level 2           level 3   \n",
       "\n",
       "    benchmark_3_level benchmark_4_level  total_minutes  \n",
       "40            level 1            level4     134.195032  \n",
       "46            level 3           level 1      59.247430  \n",
       "77            level 1            level4     124.325568  \n",
       "144           level 1           level 3     129.205541  \n",
       "200            level4           level 1       5.879212  \n",
       "221            level4           level 3      12.492581  \n",
       "263           level 2           level 2      63.419238  \n",
       "309            level4           level 2     228.975415  "
      ]
     },
     "execution_count": 44,
     "metadata": {},
     "output_type": "execute_result"
    }
   ],
   "source": [
    "# List Missing Data (ID's in Usage but not in SIS)\n",
    "missing_usage_ids = np.setdiff1d(usage_ids, sis_ids)\n",
    "print(\"IDs in Usage but not in SIS:\", missing_usage_ids)\n",
    "\n",
    "missing_usage_data = usage_data[usage_data['student_id'].isin(missing_usage_ids)]\n",
    "\n",
    "missing_usage_data"
   ]
  },
  {
   "cell_type": "markdown",
   "metadata": {},
   "source": [
    "<div class=\"alert alert-block alert-danger\">\n",
    "<b>Missing Data:</b> These rows are in the Usage file, but not in the SIS file.\n",
    "</div>"
   ]
  },
  {
   "cell_type": "code",
   "execution_count": 45,
   "metadata": {},
   "outputs": [
    {
     "name": "stdout",
     "output_type": "stream",
     "text": [
      "Common IDs between missing usage data & assessment data: 0\n"
     ]
    }
   ],
   "source": [
    "# Check for assessment data in missing Usage ID's\n",
    "print(\"Common IDs between missing usage data & assessment data:\", len(np.intersect1d(missing_usage_ids, assessment_math_ids)))"
   ]
  },
  {
   "cell_type": "code",
   "execution_count": 33,
   "metadata": {},
   "outputs": [
    {
     "name": "stdout",
     "output_type": "stream",
     "text": [
      "IDs in Assessment ELA but not in Assessment Math: 0\n"
     ]
    }
   ],
   "source": [
    "# Check for unique ELA ID's \n",
    "print(\"IDs in Assessment ELA but not in Assessment Math:\", len(np.setdiff1d(assessment_ela_ids, assessment_math_ids)))"
   ]
  },
  {
   "cell_type": "markdown",
   "metadata": {},
   "source": [
    "## Handle Usage Data"
   ]
  },
  {
   "cell_type": "code",
   "execution_count": 32,
   "metadata": {},
   "outputs": [
    {
     "name": "stdout",
     "output_type": "stream",
     "text": [
      "Unique values in benchmark_1_level: ['level 2' 'level 3' 'level 1' 'level4']\n",
      "Unique values in benchmark_2_level: ['level 1' 'level 2' 'level 3' 'level4']\n",
      "Unique values in benchmark_3_level: ['level 3' 'level4' 'level 1' 'level 2']\n",
      "Unique values in benchmark_4_level: ['level 2' 'level 1' 'level4' 'level 3']\n"
     ]
    }
   ],
   "source": [
    "# Put Benchmark columns into a list\n",
    "benchmark_columns = ['benchmark_1_level', 'benchmark_2_level', 'benchmark_3_level', 'benchmark_4_level']\n",
    "\n",
    "# Check Usage Benchmarks\n",
    "for col in benchmark_columns:\n",
    "    print(f\"Unique values in {col}: {usage_data[col].unique()}\")"
   ]
  },
  {
   "cell_type": "markdown",
   "metadata": {},
   "source": [
    "<div class=\"alert alert-block alert-danger\">\n",
    "<b>Messy Data in Benchmark Columns:</b> All level values have a space between text and number except for \"level4\" in each column.\n",
    "</div>"
   ]
  },
  {
   "cell_type": "code",
   "execution_count": 33,
   "metadata": {},
   "outputs": [
    {
     "data": {
      "text/html": [
       "<div>\n",
       "<style scoped>\n",
       "    .dataframe tbody tr th:only-of-type {\n",
       "        vertical-align: middle;\n",
       "    }\n",
       "\n",
       "    .dataframe tbody tr th {\n",
       "        vertical-align: top;\n",
       "    }\n",
       "\n",
       "    .dataframe thead th {\n",
       "        text-align: right;\n",
       "    }\n",
       "</style>\n",
       "<table border=\"1\" class=\"dataframe\">\n",
       "  <thead>\n",
       "    <tr style=\"text-align: right;\">\n",
       "      <th></th>\n",
       "      <th>student_id</th>\n",
       "      <th>lessons_completed</th>\n",
       "      <th>benchmark_1_level</th>\n",
       "      <th>benchmark_2_level</th>\n",
       "      <th>benchmark_3_level</th>\n",
       "      <th>benchmark_4_level</th>\n",
       "      <th>total_minutes</th>\n",
       "    </tr>\n",
       "  </thead>\n",
       "  <tbody>\n",
       "    <tr>\n",
       "      <th>0</th>\n",
       "      <td>1254110</td>\n",
       "      <td>13</td>\n",
       "      <td>level 2</td>\n",
       "      <td>level 1</td>\n",
       "      <td>level 3</td>\n",
       "      <td>level 2</td>\n",
       "      <td>47.808670</td>\n",
       "    </tr>\n",
       "    <tr>\n",
       "      <th>1</th>\n",
       "      <td>1254113</td>\n",
       "      <td>14</td>\n",
       "      <td>level 2</td>\n",
       "      <td>level 1</td>\n",
       "      <td>level 4</td>\n",
       "      <td>level 1</td>\n",
       "      <td>156.792335</td>\n",
       "    </tr>\n",
       "    <tr>\n",
       "      <th>2</th>\n",
       "      <td>1254288</td>\n",
       "      <td>16</td>\n",
       "      <td>level 3</td>\n",
       "      <td>level 1</td>\n",
       "      <td>level 3</td>\n",
       "      <td>level 1</td>\n",
       "      <td>38.135959</td>\n",
       "    </tr>\n",
       "    <tr>\n",
       "      <th>3</th>\n",
       "      <td>1254095</td>\n",
       "      <td>15</td>\n",
       "      <td>level 3</td>\n",
       "      <td>level 1</td>\n",
       "      <td>level 1</td>\n",
       "      <td>level 1</td>\n",
       "      <td>18.257427</td>\n",
       "    </tr>\n",
       "    <tr>\n",
       "      <th>4</th>\n",
       "      <td>1254250</td>\n",
       "      <td>1</td>\n",
       "      <td>level 2</td>\n",
       "      <td>level 1</td>\n",
       "      <td>level 2</td>\n",
       "      <td>level 2</td>\n",
       "      <td>16.479016</td>\n",
       "    </tr>\n",
       "  </tbody>\n",
       "</table>\n",
       "</div>"
      ],
      "text/plain": [
       "   student_id  lessons_completed benchmark_1_level benchmark_2_level  \\\n",
       "0     1254110                 13           level 2           level 1   \n",
       "1     1254113                 14           level 2           level 1   \n",
       "2     1254288                 16           level 3           level 1   \n",
       "3     1254095                 15           level 3           level 1   \n",
       "4     1254250                  1           level 2           level 1   \n",
       "\n",
       "  benchmark_3_level benchmark_4_level  total_minutes  \n",
       "0           level 3           level 2      47.808670  \n",
       "1           level 4           level 1     156.792335  \n",
       "2           level 3           level 1      38.135959  \n",
       "3           level 1           level 1      18.257427  \n",
       "4           level 2           level 2      16.479016  "
      ]
     },
     "execution_count": 33,
     "metadata": {},
     "output_type": "execute_result"
    }
   ],
   "source": [
    "# Replace \"level4\" with \"level 4\" in the specified columns\n",
    "for column in benchmark_columns:\n",
    "    usage_data[column] = usage_data[column].replace('level4', 'level 4')\n",
    "\n",
    "usage_data.head(5)"
   ]
  },
  {
   "cell_type": "code",
   "execution_count": 17,
   "metadata": {},
   "outputs": [
    {
     "data": {
      "text/html": [
       "<div>\n",
       "<style scoped>\n",
       "    .dataframe tbody tr th:only-of-type {\n",
       "        vertical-align: middle;\n",
       "    }\n",
       "\n",
       "    .dataframe tbody tr th {\n",
       "        vertical-align: top;\n",
       "    }\n",
       "\n",
       "    .dataframe thead th {\n",
       "        text-align: right;\n",
       "    }\n",
       "</style>\n",
       "<table border=\"1\" class=\"dataframe\">\n",
       "  <thead>\n",
       "    <tr style=\"text-align: right;\">\n",
       "      <th></th>\n",
       "      <th>student_id</th>\n",
       "      <th>benchmark</th>\n",
       "      <th>level</th>\n",
       "    </tr>\n",
       "  </thead>\n",
       "  <tbody>\n",
       "    <tr>\n",
       "      <th>0</th>\n",
       "      <td>1254110</td>\n",
       "      <td>benchmark_1_level</td>\n",
       "      <td>level 2</td>\n",
       "    </tr>\n",
       "    <tr>\n",
       "      <th>1</th>\n",
       "      <td>1254113</td>\n",
       "      <td>benchmark_1_level</td>\n",
       "      <td>level 2</td>\n",
       "    </tr>\n",
       "    <tr>\n",
       "      <th>2</th>\n",
       "      <td>1254288</td>\n",
       "      <td>benchmark_1_level</td>\n",
       "      <td>level 3</td>\n",
       "    </tr>\n",
       "    <tr>\n",
       "      <th>3</th>\n",
       "      <td>1254095</td>\n",
       "      <td>benchmark_1_level</td>\n",
       "      <td>level 3</td>\n",
       "    </tr>\n",
       "    <tr>\n",
       "      <th>4</th>\n",
       "      <td>1254250</td>\n",
       "      <td>benchmark_1_level</td>\n",
       "      <td>level 2</td>\n",
       "    </tr>\n",
       "    <tr>\n",
       "      <th>5</th>\n",
       "      <td>1254177</td>\n",
       "      <td>benchmark_1_level</td>\n",
       "      <td>level 1</td>\n",
       "    </tr>\n",
       "    <tr>\n",
       "      <th>6</th>\n",
       "      <td>1254277</td>\n",
       "      <td>benchmark_1_level</td>\n",
       "      <td>level 3</td>\n",
       "    </tr>\n",
       "    <tr>\n",
       "      <th>7</th>\n",
       "      <td>1254078</td>\n",
       "      <td>benchmark_1_level</td>\n",
       "      <td>level 2</td>\n",
       "    </tr>\n",
       "    <tr>\n",
       "      <th>8</th>\n",
       "      <td>1254165</td>\n",
       "      <td>benchmark_1_level</td>\n",
       "      <td>level 2</td>\n",
       "    </tr>\n",
       "    <tr>\n",
       "      <th>9</th>\n",
       "      <td>1254381</td>\n",
       "      <td>benchmark_1_level</td>\n",
       "      <td>level 3</td>\n",
       "    </tr>\n",
       "  </tbody>\n",
       "</table>\n",
       "</div>"
      ],
      "text/plain": [
       "   student_id          benchmark    level\n",
       "0     1254110  benchmark_1_level  level 2\n",
       "1     1254113  benchmark_1_level  level 2\n",
       "2     1254288  benchmark_1_level  level 3\n",
       "3     1254095  benchmark_1_level  level 3\n",
       "4     1254250  benchmark_1_level  level 2\n",
       "5     1254177  benchmark_1_level  level 1\n",
       "6     1254277  benchmark_1_level  level 3\n",
       "7     1254078  benchmark_1_level  level 2\n",
       "8     1254165  benchmark_1_level  level 2\n",
       "9     1254381  benchmark_1_level  level 3"
      ]
     },
     "execution_count": 17,
     "metadata": {},
     "output_type": "execute_result"
    }
   ],
   "source": [
    "# Benchmark level distribution\n",
    "melted = usage_data.melt(id_vars=['student_id'], \n",
    "                       value_vars=['benchmark_1_level', 'benchmark_2_level', 'benchmark_3_level', 'benchmark_4_level'], \n",
    "                       var_name='benchmark', \n",
    "                       value_name='level')\n",
    "melted.head(10)"
   ]
  },
  {
   "cell_type": "code",
   "execution_count": 18,
   "metadata": {},
   "outputs": [
    {
     "data": {
      "image/png": "[encoded data removed]",
      "text/plain": [
       "<Figure size 640x480 with 1 Axes>"
      ]
     },
     "metadata": {},
     "output_type": "display_data"
    }
   ],
   "source": [
    "sb.countplot(data=melted, x='benchmark', hue='level')\n",
    "plt.title(\"Benchmark Levels Distribution\")\n",
    "plt.xticks(rotation=15)\n",
    "plt.legend(loc = 4) \n",
    "plt.show()"
   ]
  },
  {
   "cell_type": "code",
   "execution_count": 48,
   "metadata": {},
   "outputs": [
    {
     "name": "stdout",
     "output_type": "stream",
     "text": [
      "benchmark_1_level\n",
      "level 2    96\n",
      "level 3    85\n",
      "level 1    85\n",
      "level4     83\n",
      "Name: count, dtype: int64\n",
      "benchmark_2_level\n",
      "level 2    93\n",
      "level4     89\n",
      "level 3    84\n",
      "level 1    83\n",
      "Name: count, dtype: int64\n",
      "benchmark_3_level\n",
      "level 3    95\n",
      "level 1    88\n",
      "level 2    87\n",
      "level4     79\n",
      "Name: count, dtype: int64\n",
      "benchmark_4_level\n",
      "level4     92\n",
      "level 2    89\n",
      "level 1    84\n",
      "level 3    84\n",
      "Name: count, dtype: int64\n"
     ]
    }
   ],
   "source": [
    "for col in ['benchmark_1_level', 'benchmark_2_level', 'benchmark_3_level', 'benchmark_4_level']:\n",
    "    print(usage_data[col].value_counts())\n"
   ]
  },
  {
   "cell_type": "code",
   "execution_count": 51,
   "metadata": {},
   "outputs": [
    {
     "name": "stdout",
     "output_type": "stream",
     "text": [
      "Correlation with total_minutes for lessons_completed: -0.04444975594260643\n"
     ]
    }
   ],
   "source": [
    "for col in ['lessons_completed']:\n",
    "    print(f\"Correlation with total_minutes for {col}: {usage_data[col].corr(usage_data['total_minutes'])}\")\n"
   ]
  },
  {
   "cell_type": "code",
   "execution_count": null,
   "metadata": {},
   "outputs": [],
   "source": []
  },
  {
   "cell_type": "markdown",
   "metadata": {},
   "source": [
    "# Merge Data\n",
    "- Use SIS data as base, into which other data is merged"
   ]
  },
  {
   "cell_type": "code",
   "execution_count": 43,
   "metadata": {},
   "outputs": [
    {
     "data": {
      "text/html": [
       "<div>\n",
       "<style scoped>\n",
       "    .dataframe tbody tr th:only-of-type {\n",
       "        vertical-align: middle;\n",
       "    }\n",
       "\n",
       "    .dataframe tbody tr th {\n",
       "        vertical-align: top;\n",
       "    }\n",
       "\n",
       "    .dataframe thead th {\n",
       "        text-align: right;\n",
       "    }\n",
       "</style>\n",
       "<table border=\"1\" class=\"dataframe\">\n",
       "  <thead>\n",
       "    <tr style=\"text-align: right;\">\n",
       "      <th></th>\n",
       "      <th>student_id</th>\n",
       "      <th>grade_level</th>\n",
       "      <th>race_ethnicity</th>\n",
       "      <th>gender</th>\n",
       "      <th>free_reduced_price_lunch</th>\n",
       "      <th>lessons_completed</th>\n",
       "      <th>benchmark_1_level</th>\n",
       "      <th>benchmark_2_level</th>\n",
       "      <th>benchmark_3_level</th>\n",
       "      <th>benchmark_4_level</th>\n",
       "      <th>total_minutes</th>\n",
       "      <th>student_number</th>\n",
       "      <th>subject</th>\n",
       "      <th>score</th>\n",
       "    </tr>\n",
       "  </thead>\n",
       "  <tbody>\n",
       "    <tr>\n",
       "      <th>0</th>\n",
       "      <td>1254353</td>\n",
       "      <td>7</td>\n",
       "      <td>White</td>\n",
       "      <td>Male</td>\n",
       "      <td>No</td>\n",
       "      <td>24.0</td>\n",
       "      <td>level 2</td>\n",
       "      <td>level 2</td>\n",
       "      <td>level 2</td>\n",
       "      <td>level 2</td>\n",
       "      <td>21.040558</td>\n",
       "      <td>54912313.0</td>\n",
       "      <td>Math</td>\n",
       "      <td>289.0</td>\n",
       "    </tr>\n",
       "    <tr>\n",
       "      <th>1</th>\n",
       "      <td>1254135</td>\n",
       "      <td>5</td>\n",
       "      <td>White</td>\n",
       "      <td>Male</td>\n",
       "      <td>NaN</td>\n",
       "      <td>1.0</td>\n",
       "      <td>level 2</td>\n",
       "      <td>level 2</td>\n",
       "      <td>level 3</td>\n",
       "      <td>level 3</td>\n",
       "      <td>53.124390</td>\n",
       "      <td>NaN</td>\n",
       "      <td>NaN</td>\n",
       "      <td>NaN</td>\n",
       "    </tr>\n",
       "    <tr>\n",
       "      <th>2</th>\n",
       "      <td>1254423</td>\n",
       "      <td>8</td>\n",
       "      <td>Black/African American</td>\n",
       "      <td>Male</td>\n",
       "      <td>Reduced Price</td>\n",
       "      <td>NaN</td>\n",
       "      <td>NaN</td>\n",
       "      <td>NaN</td>\n",
       "      <td>NaN</td>\n",
       "      <td>NaN</td>\n",
       "      <td>NaN</td>\n",
       "      <td>54912383.0</td>\n",
       "      <td>Math</td>\n",
       "      <td>614.0</td>\n",
       "    </tr>\n",
       "    <tr>\n",
       "      <th>3</th>\n",
       "      <td>1254598</td>\n",
       "      <td>8</td>\n",
       "      <td>White</td>\n",
       "      <td>Male</td>\n",
       "      <td>Free</td>\n",
       "      <td>NaN</td>\n",
       "      <td>NaN</td>\n",
       "      <td>NaN</td>\n",
       "      <td>NaN</td>\n",
       "      <td>NaN</td>\n",
       "      <td>NaN</td>\n",
       "      <td>54912558.0</td>\n",
       "      <td>Math</td>\n",
       "      <td>578.0</td>\n",
       "    </tr>\n",
       "    <tr>\n",
       "      <th>4</th>\n",
       "      <td>1254562</td>\n",
       "      <td>6</td>\n",
       "      <td>Black/African American</td>\n",
       "      <td>Male</td>\n",
       "      <td>No</td>\n",
       "      <td>NaN</td>\n",
       "      <td>NaN</td>\n",
       "      <td>NaN</td>\n",
       "      <td>NaN</td>\n",
       "      <td>NaN</td>\n",
       "      <td>NaN</td>\n",
       "      <td>54912522.0</td>\n",
       "      <td>Math</td>\n",
       "      <td>395.0</td>\n",
       "    </tr>\n",
       "    <tr>\n",
       "      <th>5</th>\n",
       "      <td>1254213</td>\n",
       "      <td>8</td>\n",
       "      <td>White</td>\n",
       "      <td>Male</td>\n",
       "      <td>No</td>\n",
       "      <td>21.0</td>\n",
       "      <td>level4</td>\n",
       "      <td>level 3</td>\n",
       "      <td>level4</td>\n",
       "      <td>level 1</td>\n",
       "      <td>11.374870</td>\n",
       "      <td>54912173.0</td>\n",
       "      <td>Math</td>\n",
       "      <td>518.0</td>\n",
       "    </tr>\n",
       "    <tr>\n",
       "      <th>6</th>\n",
       "      <td>1254122</td>\n",
       "      <td>5</td>\n",
       "      <td>Black/African American</td>\n",
       "      <td>Female</td>\n",
       "      <td>Reduced Price</td>\n",
       "      <td>8.0</td>\n",
       "      <td>level 2</td>\n",
       "      <td>level 3</td>\n",
       "      <td>level4</td>\n",
       "      <td>level4</td>\n",
       "      <td>82.582013</td>\n",
       "      <td>NaN</td>\n",
       "      <td>NaN</td>\n",
       "      <td>NaN</td>\n",
       "    </tr>\n",
       "    <tr>\n",
       "      <th>7</th>\n",
       "      <td>1254275</td>\n",
       "      <td>7</td>\n",
       "      <td>White</td>\n",
       "      <td>Male</td>\n",
       "      <td>Reduced Price</td>\n",
       "      <td>16.0</td>\n",
       "      <td>level 2</td>\n",
       "      <td>level 3</td>\n",
       "      <td>level4</td>\n",
       "      <td>level 3</td>\n",
       "      <td>133.622386</td>\n",
       "      <td>54912235.0</td>\n",
       "      <td>Math</td>\n",
       "      <td>601.0</td>\n",
       "    </tr>\n",
       "    <tr>\n",
       "      <th>8</th>\n",
       "      <td>1254600</td>\n",
       "      <td>6</td>\n",
       "      <td>Black/African American</td>\n",
       "      <td>Female</td>\n",
       "      <td>No</td>\n",
       "      <td>NaN</td>\n",
       "      <td>NaN</td>\n",
       "      <td>NaN</td>\n",
       "      <td>NaN</td>\n",
       "      <td>NaN</td>\n",
       "      <td>NaN</td>\n",
       "      <td>54912560.0</td>\n",
       "      <td>Math</td>\n",
       "      <td>705.0</td>\n",
       "    </tr>\n",
       "    <tr>\n",
       "      <th>9</th>\n",
       "      <td>1254828</td>\n",
       "      <td>5</td>\n",
       "      <td>White</td>\n",
       "      <td>Female</td>\n",
       "      <td>No</td>\n",
       "      <td>NaN</td>\n",
       "      <td>NaN</td>\n",
       "      <td>NaN</td>\n",
       "      <td>NaN</td>\n",
       "      <td>NaN</td>\n",
       "      <td>NaN</td>\n",
       "      <td>NaN</td>\n",
       "      <td>NaN</td>\n",
       "      <td>NaN</td>\n",
       "    </tr>\n",
       "  </tbody>\n",
       "</table>\n",
       "</div>"
      ],
      "text/plain": [
       "   student_id  grade_level          race_ethnicity  gender  \\\n",
       "0     1254353            7                   White    Male   \n",
       "1     1254135            5                   White    Male   \n",
       "2     1254423            8  Black/African American    Male   \n",
       "3     1254598            8                   White    Male   \n",
       "4     1254562            6  Black/African American    Male   \n",
       "5     1254213            8                   White    Male   \n",
       "6     1254122            5  Black/African American  Female   \n",
       "7     1254275            7                   White    Male   \n",
       "8     1254600            6  Black/African American  Female   \n",
       "9     1254828            5                   White  Female   \n",
       "\n",
       "  free_reduced_price_lunch  lessons_completed benchmark_1_level  \\\n",
       "0                       No               24.0           level 2   \n",
       "1                      NaN                1.0           level 2   \n",
       "2            Reduced Price                NaN               NaN   \n",
       "3                     Free                NaN               NaN   \n",
       "4                       No                NaN               NaN   \n",
       "5                       No               21.0            level4   \n",
       "6            Reduced Price                8.0           level 2   \n",
       "7            Reduced Price               16.0           level 2   \n",
       "8                       No                NaN               NaN   \n",
       "9                       No                NaN               NaN   \n",
       "\n",
       "  benchmark_2_level benchmark_3_level benchmark_4_level  total_minutes  \\\n",
       "0           level 2           level 2           level 2      21.040558   \n",
       "1           level 2           level 3           level 3      53.124390   \n",
       "2               NaN               NaN               NaN            NaN   \n",
       "3               NaN               NaN               NaN            NaN   \n",
       "4               NaN               NaN               NaN            NaN   \n",
       "5           level 3            level4           level 1      11.374870   \n",
       "6           level 3            level4            level4      82.582013   \n",
       "7           level 3            level4           level 3     133.622386   \n",
       "8               NaN               NaN               NaN            NaN   \n",
       "9               NaN               NaN               NaN            NaN   \n",
       "\n",
       "   student_number subject  score  \n",
       "0      54912313.0    Math  289.0  \n",
       "1             NaN     NaN    NaN  \n",
       "2      54912383.0    Math  614.0  \n",
       "3      54912558.0    Math  578.0  \n",
       "4      54912522.0    Math  395.0  \n",
       "5      54912173.0    Math  518.0  \n",
       "6             NaN     NaN    NaN  \n",
       "7      54912235.0    Math  601.0  \n",
       "8      54912560.0    Math  705.0  \n",
       "9             NaN     NaN    NaN  "
      ]
     },
     "execution_count": 43,
     "metadata": {},
     "output_type": "execute_result"
    }
   ],
   "source": [
    "# Merge SIS and Usage\n",
    "merged_df = sis_data.merge(usage_data, on='student_id', how='left')\n",
    "\n",
    "# Merge the result with Assessment\n",
    "merged_df = merged_df.merge(assessment_math, on='student_id', how='left')\n",
    "\n",
    "# Display the merged dataset\n",
    "merged_df.head(10)\n"
   ]
  },
  {
   "cell_type": "code",
   "execution_count": 36,
   "metadata": {},
   "outputs": [
    {
     "name": "stdout",
     "output_type": "stream",
     "text": [
      "<class 'pandas.core.frame.DataFrame'>\n",
      "RangeIndex: 783 entries, 0 to 782\n",
      "Data columns (total 14 columns):\n",
      " #   Column                    Non-Null Count  Dtype  \n",
      "---  ------                    --------------  -----  \n",
      " 0   student_id                783 non-null    int64  \n",
      " 1   grade_level               783 non-null    int64  \n",
      " 2   race_ethnicity            736 non-null    object \n",
      " 3   gender                    783 non-null    object \n",
      " 4   free_reduced_price_lunch  669 non-null    object \n",
      " 5   lessons_completed         341 non-null    float64\n",
      " 6   benchmark_1_level         341 non-null    object \n",
      " 7   benchmark_2_level         341 non-null    object \n",
      " 8   benchmark_3_level         341 non-null    object \n",
      " 9   benchmark_4_level         341 non-null    object \n",
      " 10  total_minutes             341 non-null    float64\n",
      " 11  student_number            640 non-null    float64\n",
      " 12  subject                   640 non-null    object \n",
      " 13  score                     640 non-null    float64\n",
      "dtypes: float64(4), int64(2), object(8)\n",
      "memory usage: 85.8+ KB\n"
     ]
    }
   ],
   "source": [
    "merged_df.info()"
   ]
  },
  {
   "cell_type": "code",
   "execution_count": 38,
   "metadata": {},
   "outputs": [
    {
     "name": "stdout",
     "output_type": "stream",
     "text": [
      "                          Null Count  Blank Count\n",
      "student_id                         0            0\n",
      "grade_level                        0            0\n",
      "race_ethnicity                    47            0\n",
      "gender                             0            0\n",
      "free_reduced_price_lunch         114            0\n",
      "lessons_completed                442            0\n",
      "benchmark_1_level                442            0\n",
      "benchmark_2_level                442            0\n",
      "benchmark_3_level                442            0\n",
      "benchmark_4_level                442            0\n",
      "total_minutes                    442            0\n",
      "student_number                   143            0\n",
      "subject                          143            0\n",
      "score                            143            0\n"
     ]
    }
   ],
   "source": [
    "# Check all columns for NaN or blank values\n",
    "full_null_counts = merged_df.isnull().sum()\n",
    "full_blank_counts = merged_df.apply(lambda col: col.astype(str).str.strip().eq('').sum())\n",
    "\n",
    "# Combine into a summary DataFrame\n",
    "full_issue_summary = pd.DataFrame({\n",
    "    'Null Count': full_null_counts,\n",
    "    'Blank Count': full_blank_counts\n",
    "})\n",
    "print(full_issue_summary)"
   ]
  },
  {
   "cell_type": "code",
   "execution_count": 47,
   "metadata": {},
   "outputs": [
    {
     "data": {
      "image/png": "[encoded data removed]",
      "text/plain": [
       "<Figure size 1000x600 with 1 Axes>"
      ]
     },
     "metadata": {},
     "output_type": "display_data"
    }
   ],
   "source": [
    "# Check missing data across columns\n",
    "missing_data = merged_df.isnull()\n",
    "\n",
    "# Visualize as a heatmap\n",
    "plt.figure(figsize=(10, 6))\n",
    "sb.heatmap(missing_data, cbar=False, yticklabels=False, cmap='viridis')\n",
    "plt.title(\"Missing Data Heatmap\")\n",
    "plt.show()"
   ]
  },
  {
   "cell_type": "code",
   "execution_count": 56,
   "metadata": {},
   "outputs": [
    {
     "data": {
      "text/plain": [
       "0      289.0\n",
       "1       -1.0\n",
       "2      614.0\n",
       "3      578.0\n",
       "4      395.0\n",
       "       ...  \n",
       "778    290.0\n",
       "779    196.0\n",
       "780    557.0\n",
       "781    433.0\n",
       "782    717.0\n",
       "Name: score, Length: 783, dtype: float64"
      ]
     },
     "execution_count": 56,
     "metadata": {},
     "output_type": "execute_result"
    }
   ],
   "source": [
    "# Fill NaN in lessons_completed and total_minutes with 0\n",
    "merged_df['lessons_completed'].fillna(0)\n",
    "merged_df['total_minutes'].fillna(0)\n",
    "\n",
    "# Fill NaN in score with -1 to indicate no assessment taken\n",
    "merged_df['score'].fillna(-1)\n"
   ]
  },
  {
   "cell_type": "markdown",
   "metadata": {},
   "source": [
    "# Scratch Pad"
   ]
  },
  {
   "cell_type": "code",
   "execution_count": 52,
   "metadata": {},
   "outputs": [
    {
     "name": "stdout",
     "output_type": "stream",
     "text": [
      "Correlation with Score for lessons_completed: -0.16664187473992423\n",
      "Correlation with Score for total_minutes: 0.1072420936688609\n"
     ]
    }
   ],
   "source": [
    "# Correlations\n",
    "for col in ['lessons_completed', 'total_minutes']:\n",
    "    print(f\"Correlation with Score for {col}: {merged_df[col].corr(merged_df['score'])}\")\n"
   ]
  },
  {
   "cell_type": "code",
   "execution_count": 54,
   "metadata": {},
   "outputs": [
    {
     "data": {
      "image/png": "[encoded data removed]",
      "text/plain": [
       "<Figure size 640x480 with 2 Axes>"
      ]
     },
     "metadata": {},
     "output_type": "display_data"
    }
   ],
   "source": [
    "heatmap_data = merged_df.groupby(['benchmark_1_level', 'grade_level'])['score'].mean().unstack()\n",
    "sb.heatmap(heatmap_data, annot=True, cmap='coolwarm')\n",
    "plt.title(\"Math Score by Benchmark Level and Grade\")\n",
    "plt.show()\n"
   ]
  },
  {
   "cell_type": "code",
   "execution_count": 29,
   "metadata": {
    "scrolled": true
   },
   "outputs": [
    {
     "name": "stdout",
     "output_type": "stream",
     "text": [
      "           id  student_number subject  score\n",
      "0     1254397        54912357     ELA    190\n",
      "1     1254204        54912164     ELA    567\n",
      "2     1254785        54912745     ELA    390\n",
      "3     1254308        54912268    Math    719\n",
      "4     1254560        54912520     ELA    394\n",
      "...       ...             ...     ...    ...\n",
      "1275  1254205        54912165     ELA    615\n",
      "1276  1254564        54912524     ELA    382\n",
      "1277  1254424        54912384    Math    750\n",
      "1278  1254358        54912318     ELA    304\n",
      "1279  1254500        54912460    Math    105\n",
      "\n",
      "[1280 rows x 4 columns]\n"
     ]
    }
   ],
   "source": [
    "# Identify Duplicate ID rows\n",
    "\n",
    "assessment_duplicate_rows = assessment_data[assessment_data.duplicated(subset=['id'], keep=False)]\n",
    "print(assessment_duplicate_rows)"
   ]
  },
  {
   "cell_type": "code",
   "execution_count": 49,
   "metadata": {},
   "outputs": [
    {
     "name": "stdout",
     "output_type": "stream",
     "text": [
      "Checking SIS Data...\n",
      "No inconsistencies found.\n",
      "Checking Assessment Data...\n",
      "No inconsistencies found.\n",
      "Checking Usage Data...\n",
      "No inconsistencies found.\n"
     ]
    }
   ],
   "source": [
    "for name, df in dataframes:\n",
    "    print(f\"Checking {name}...\")\n",
    "    found = False\n",
    "    for column in df.select_dtypes(include=['int64', 'float64']).columns:\n",
    "        if (df[column] < 0).any():\n",
    "            print(f\"  Column '{column}' in {name} has values less than 1.\")\n",
    "            found = True\n",
    "\n",
    "    \n",
    "    if (not found):\n",
    "        print(\"No inconsistencies found.\")"
   ]
  },
  {
   "cell_type": "code",
   "execution_count": 24,
   "metadata": {},
   "outputs": [
    {
     "name": "stdout",
     "output_type": "stream",
     "text": [
      "SIS Invalid IDs: Empty DataFrame\n",
      "Columns: [student_id, grade_level, race_ethnicity, gender, Free/Reduced Price Lunch]\n",
      "Index: []\n",
      "Assessment Invalid IDs: Empty DataFrame\n",
      "Columns: [id, student_number, subject, score]\n",
      "Index: []\n",
      "Assessment Invalid Nums: Empty DataFrame\n",
      "Columns: [id, student_number, subject, score]\n",
      "Index: []\n",
      "Usage Invalid IDs: Empty DataFrame\n",
      "Columns: [student_id, lesson completed, benchmark_1_level, benchmark_2_level, benchmark_3_level, benchmark_4_level, total_minutes]\n",
      "Index: []\n"
     ]
    }
   ],
   "source": [
    "# Confirm ID columns have no negative or zero values\n",
    "sis_invalid_ids = sis_data['student_id'] <= 0\n",
    "print(\"SIS Invalid IDs:\", sis_data[sis_invalid_ids])\n",
    "\n",
    "assessment_invalid_ids = assessment_data['id'] <= 0\n",
    "print(\"Assessment Invalid IDs:\", assessment_data[assessment_invalid_ids])\n",
    "\n",
    "assessment_invalid_nums = assessment_data['student_number'] <= 0\n",
    "print(\"Assessment Invalid Nums:\", assessment_data[assessment_invalid_nums])\n",
    "\n",
    "usage_invalid_ids = usage_data['student_id'] <= 0\n",
    "print(\"Usage Invalid IDs:\", usage_data[usage_invalid_ids])"
   ]
  },
  {
   "cell_type": "code",
   "execution_count": 12,
   "metadata": {},
   "outputs": [
    {
     "name": "stdout",
     "output_type": "stream",
     "text": [
      "Total number of problematic values: 0\n"
     ]
    }
   ],
   "source": [
    "# Total problematic values (NaN + blank)\n",
    "total_issues = (assessment_data['id'].isnull() | assessment_data['id'].astype(str).str.strip().eq('')).sum()\n",
    "print(\"Total number of problematic values:\", total_issues)"
   ]
  },
  {
   "cell_type": "code",
   "execution_count": 29,
   "metadata": {},
   "outputs": [
    {
     "ename": "NameError",
     "evalue": "name 'assessment_math_ids' is not defined",
     "output_type": "error",
     "traceback": [
      "\u001b[0;31m---------------------------------------------------------------------------\u001b[0m",
      "\u001b[0;31mNameError\u001b[0m                                 Traceback (most recent call last)",
      "Cell \u001b[0;32mIn[29], line 1\u001b[0m\n\u001b[0;32m----> 1\u001b[0m sis_assess_intersection \u001b[38;5;241m=\u001b[39m np\u001b[38;5;241m.\u001b[39mintersect1d(\u001b[43massessment_math_ids\u001b[49m, sis_ids)\n\u001b[1;32m      2\u001b[0m usage_assess_intersection \u001b[38;5;241m=\u001b[39m np\u001b[38;5;241m.\u001b[39mintersect1d(assessment_math_ids, usage_ids)\n",
      "\u001b[0;31mNameError\u001b[0m: name 'assessment_math_ids' is not defined"
     ]
    }
   ],
   "source": [
    "# intersection\n",
    "\n",
    "sis_assess_intersection = np.intersect1d(assessment_math_ids, sis_ids)\n",
    "usage_assess_intersection = np.intersect1d(assessment_math_ids, usage_ids)\n",
    "# print(\"Common IDs between assessment and SIS:\", len(sis_assess_intersection))\n",
    "# print(\"Common IDs between assessment and Usage:\", len(usage_assess_intersection))"
   ]
  },
  {
   "cell_type": "code",
   "execution_count": null,
   "metadata": {},
   "outputs": [],
   "source": [
    "# Drop unnecessary columns\n",
    "# Drop columns 'A' and 'C'\n",
    "clean_merged = merged_df.drop(['A', 'C'], axis=1)"
   ]
  },
  {
   "cell_type": "code",
   "execution_count": null,
   "metadata": {},
   "outputs": [],
   "source": []
  }
 ],
 "metadata": {
  "kernelspec": {
   "display_name": "Python 3 (ipykernel)",
   "language": "python",
   "name": "python3"
  },
  "language_info": {
   "codemirror_mode": {
    "name": "ipython",
    "version": 3
   },
   "file_extension": ".py",
   "mimetype": "text/x-python",
   "name": "python",
   "nbconvert_exporter": "python",
   "pygments_lexer": "ipython3",
   "version": "3.9.21"
  }
 },
 "nbformat": 4,
 "nbformat_minor": 4
}
