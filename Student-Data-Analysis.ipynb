{
 "cells": [
  {
   "cell_type": "markdown",
   "metadata": {},
   "source": [
    "# Project Overview\n",
    "\n",
    "Project goal is to generate a cleaned and merged data file in csv format, given 3 ficticious datasets, and provide notes as to what was found in the data, including any missing data.\n",
    "\n",
    "## Provided Files:\n",
    "1. Assessment file (sample_assessment.csv): Manhattan School District standardized test results - please include Math score.\n",
    "2. Math product Usage file (sample_usage.csv): Please include both lessons completed and total minutes columns in the merged file. Students in grade levels 5, 6, 7, and 8 have access to the Math product.\n",
    "3. SIS file (sample_sis.csv): Please include all information listed in this file (all students in grade levels 5, 6, 7, and 8) and all columns.\n",
    "\n"
   ]
  },
  {
   "cell_type": "markdown",
   "metadata": {},
   "source": [
    "# Setup"
   ]
  },
  {
   "cell_type": "code",
   "execution_count": 2,
   "metadata": {},
   "outputs": [],
   "source": [
    "# Import modules\n",
    "import numpy as np\n",
    "import pandas as pd\n",
    "import matplotlib.pyplot as plt\n",
    "import seaborn as sb\n",
    "\n",
    "# Allows plots to be rendered inside the notebook\n",
    "%matplotlib inline"
   ]
  },
  {
   "cell_type": "code",
   "execution_count": 27,
   "metadata": {},
   "outputs": [],
   "source": [
    "# Load files\n",
    "sis_data = pd.read_csv('./resources/sample_sis.csv')\n",
    "assessment_data = pd.read_csv('./resources/sample_assessment.csv')\n",
    "usage_data = pd.read_csv('./resources/sample_usage.csv')"
   ]
  },
  {
   "cell_type": "code",
   "execution_count": 28,
   "metadata": {},
   "outputs": [],
   "source": [
    "# Create list of dataframes for ease of programming\n",
    "dataframes = [(\"SIS Data\", sis_data), (\"Assessment Data\", assessment_data), (\"Usage Data\", usage_data)]\n"
   ]
  },
  {
   "cell_type": "markdown",
   "metadata": {},
   "source": [
    "# Data Overview"
   ]
  },
  {
   "cell_type": "code",
   "execution_count": 29,
   "metadata": {},
   "outputs": [
    {
     "data": {
      "text/html": [
       "<div>\n",
       "<style scoped>\n",
       "    .dataframe tbody tr th:only-of-type {\n",
       "        vertical-align: middle;\n",
       "    }\n",
       "\n",
       "    .dataframe tbody tr th {\n",
       "        vertical-align: top;\n",
       "    }\n",
       "\n",
       "    .dataframe thead th {\n",
       "        text-align: right;\n",
       "    }\n",
       "</style>\n",
       "<table border=\"1\" class=\"dataframe\">\n",
       "  <thead>\n",
       "    <tr style=\"text-align: right;\">\n",
       "      <th></th>\n",
       "      <th>student_id</th>\n",
       "      <th>grade_level</th>\n",
       "      <th>race_ethnicity</th>\n",
       "      <th>gender</th>\n",
       "      <th>Free/Reduced Price Lunch</th>\n",
       "    </tr>\n",
       "  </thead>\n",
       "  <tbody>\n",
       "    <tr>\n",
       "      <th>0</th>\n",
       "      <td>1254353</td>\n",
       "      <td>7</td>\n",
       "      <td>White</td>\n",
       "      <td>Male</td>\n",
       "      <td>No</td>\n",
       "    </tr>\n",
       "    <tr>\n",
       "      <th>1</th>\n",
       "      <td>1254135</td>\n",
       "      <td>5</td>\n",
       "      <td>White</td>\n",
       "      <td>Male</td>\n",
       "      <td>NaN</td>\n",
       "    </tr>\n",
       "    <tr>\n",
       "      <th>2</th>\n",
       "      <td>1254423</td>\n",
       "      <td>8</td>\n",
       "      <td>Black/African American</td>\n",
       "      <td>Male</td>\n",
       "      <td>Reduced Price</td>\n",
       "    </tr>\n",
       "    <tr>\n",
       "      <th>3</th>\n",
       "      <td>1254598</td>\n",
       "      <td>8</td>\n",
       "      <td>White</td>\n",
       "      <td>Male</td>\n",
       "      <td>Free</td>\n",
       "    </tr>\n",
       "    <tr>\n",
       "      <th>4</th>\n",
       "      <td>1254562</td>\n",
       "      <td>6</td>\n",
       "      <td>Black/African American</td>\n",
       "      <td>Male</td>\n",
       "      <td>No</td>\n",
       "    </tr>\n",
       "  </tbody>\n",
       "</table>\n",
       "</div>"
      ],
      "text/plain": [
       "   student_id  grade_level          race_ethnicity gender  \\\n",
       "0     1254353            7                   White   Male   \n",
       "1     1254135            5                   White   Male   \n",
       "2     1254423            8  Black/African American   Male   \n",
       "3     1254598            8                   White   Male   \n",
       "4     1254562            6  Black/African American   Male   \n",
       "\n",
       "  Free/Reduced Price Lunch  \n",
       "0                       No  \n",
       "1                      NaN  \n",
       "2            Reduced Price  \n",
       "3                     Free  \n",
       "4                       No  "
      ]
     },
     "execution_count": 29,
     "metadata": {},
     "output_type": "execute_result"
    }
   ],
   "source": [
    "# View headers\n",
    "sis_data.head(5)"
   ]
  },
  {
   "cell_type": "code",
   "execution_count": 30,
   "metadata": {},
   "outputs": [
    {
     "data": {
      "text/html": [
       "<div>\n",
       "<style scoped>\n",
       "    .dataframe tbody tr th:only-of-type {\n",
       "        vertical-align: middle;\n",
       "    }\n",
       "\n",
       "    .dataframe tbody tr th {\n",
       "        vertical-align: top;\n",
       "    }\n",
       "\n",
       "    .dataframe thead th {\n",
       "        text-align: right;\n",
       "    }\n",
       "</style>\n",
       "<table border=\"1\" class=\"dataframe\">\n",
       "  <thead>\n",
       "    <tr style=\"text-align: right;\">\n",
       "      <th></th>\n",
       "      <th>id</th>\n",
       "      <th>student_number</th>\n",
       "      <th>subject</th>\n",
       "      <th>score</th>\n",
       "    </tr>\n",
       "  </thead>\n",
       "  <tbody>\n",
       "    <tr>\n",
       "      <th>0</th>\n",
       "      <td>1254397</td>\n",
       "      <td>54912357</td>\n",
       "      <td>ELA</td>\n",
       "      <td>190</td>\n",
       "    </tr>\n",
       "    <tr>\n",
       "      <th>1</th>\n",
       "      <td>1254204</td>\n",
       "      <td>54912164</td>\n",
       "      <td>ELA</td>\n",
       "      <td>567</td>\n",
       "    </tr>\n",
       "    <tr>\n",
       "      <th>2</th>\n",
       "      <td>1254785</td>\n",
       "      <td>54912745</td>\n",
       "      <td>ELA</td>\n",
       "      <td>390</td>\n",
       "    </tr>\n",
       "    <tr>\n",
       "      <th>3</th>\n",
       "      <td>1254308</td>\n",
       "      <td>54912268</td>\n",
       "      <td>Math</td>\n",
       "      <td>719</td>\n",
       "    </tr>\n",
       "    <tr>\n",
       "      <th>4</th>\n",
       "      <td>1254560</td>\n",
       "      <td>54912520</td>\n",
       "      <td>ELA</td>\n",
       "      <td>394</td>\n",
       "    </tr>\n",
       "  </tbody>\n",
       "</table>\n",
       "</div>"
      ],
      "text/plain": [
       "        id  student_number subject  score\n",
       "0  1254397        54912357     ELA    190\n",
       "1  1254204        54912164     ELA    567\n",
       "2  1254785        54912745     ELA    390\n",
       "3  1254308        54912268    Math    719\n",
       "4  1254560        54912520     ELA    394"
      ]
     },
     "execution_count": 30,
     "metadata": {},
     "output_type": "execute_result"
    }
   ],
   "source": [
    "assessment_data.head(5)"
   ]
  },
  {
   "cell_type": "code",
   "execution_count": 31,
   "metadata": {},
   "outputs": [
    {
     "data": {
      "text/html": [
       "<div>\n",
       "<style scoped>\n",
       "    .dataframe tbody tr th:only-of-type {\n",
       "        vertical-align: middle;\n",
       "    }\n",
       "\n",
       "    .dataframe tbody tr th {\n",
       "        vertical-align: top;\n",
       "    }\n",
       "\n",
       "    .dataframe thead th {\n",
       "        text-align: right;\n",
       "    }\n",
       "</style>\n",
       "<table border=\"1\" class=\"dataframe\">\n",
       "  <thead>\n",
       "    <tr style=\"text-align: right;\">\n",
       "      <th></th>\n",
       "      <th>student_id</th>\n",
       "      <th>lesson completed</th>\n",
       "      <th>benchmark_1_level</th>\n",
       "      <th>benchmark_2_level</th>\n",
       "      <th>benchmark_3_level</th>\n",
       "      <th>benchmark_4_level</th>\n",
       "      <th>total_minutes</th>\n",
       "    </tr>\n",
       "  </thead>\n",
       "  <tbody>\n",
       "    <tr>\n",
       "      <th>0</th>\n",
       "      <td>1254110</td>\n",
       "      <td>13</td>\n",
       "      <td>level 2</td>\n",
       "      <td>level 1</td>\n",
       "      <td>level 3</td>\n",
       "      <td>level 2</td>\n",
       "      <td>47.808670</td>\n",
       "    </tr>\n",
       "    <tr>\n",
       "      <th>1</th>\n",
       "      <td>1254113</td>\n",
       "      <td>14</td>\n",
       "      <td>level 2</td>\n",
       "      <td>level 1</td>\n",
       "      <td>level4</td>\n",
       "      <td>level 1</td>\n",
       "      <td>156.792335</td>\n",
       "    </tr>\n",
       "    <tr>\n",
       "      <th>2</th>\n",
       "      <td>1254288</td>\n",
       "      <td>16</td>\n",
       "      <td>level 3</td>\n",
       "      <td>level 1</td>\n",
       "      <td>level 3</td>\n",
       "      <td>level 1</td>\n",
       "      <td>38.135959</td>\n",
       "    </tr>\n",
       "    <tr>\n",
       "      <th>3</th>\n",
       "      <td>1254095</td>\n",
       "      <td>15</td>\n",
       "      <td>level 3</td>\n",
       "      <td>level 1</td>\n",
       "      <td>level 1</td>\n",
       "      <td>level 1</td>\n",
       "      <td>18.257427</td>\n",
       "    </tr>\n",
       "    <tr>\n",
       "      <th>4</th>\n",
       "      <td>1254250</td>\n",
       "      <td>1</td>\n",
       "      <td>level 2</td>\n",
       "      <td>level 1</td>\n",
       "      <td>level 2</td>\n",
       "      <td>level 2</td>\n",
       "      <td>16.479016</td>\n",
       "    </tr>\n",
       "  </tbody>\n",
       "</table>\n",
       "</div>"
      ],
      "text/plain": [
       "   student_id  lesson completed benchmark_1_level benchmark_2_level  \\\n",
       "0     1254110                13           level 2           level 1   \n",
       "1     1254113                14           level 2           level 1   \n",
       "2     1254288                16           level 3           level 1   \n",
       "3     1254095                15           level 3           level 1   \n",
       "4     1254250                 1           level 2           level 1   \n",
       "\n",
       "  benchmark_3_level benchmark_4_level  total_minutes  \n",
       "0           level 3           level 2      47.808670  \n",
       "1            level4           level 1     156.792335  \n",
       "2           level 3           level 1      38.135959  \n",
       "3           level 1           level 1      18.257427  \n",
       "4           level 2           level 2      16.479016  "
      ]
     },
     "execution_count": 31,
     "metadata": {},
     "output_type": "execute_result"
    }
   ],
   "source": [
    "usage_data.head(5)"
   ]
  },
  {
   "cell_type": "markdown",
   "metadata": {},
   "source": [
    "## Cursory Observations\n",
    "- Relationship column between files is Student ID (student_id).\n",
    "    - While the Usage & SIS files have a clearly labeled student_id column, the Assessment file has two possible columns that could be Student ID, either id or student_number. \n",
    "    - All id-related columns have 7 digits, but the id column in the Assessments file has similar leading numbers as the student_id columns in the other two files.\n",
    "- Additional header observations:\n",
    "    - File headers have incongruent formats- spacing vs underscores, mixed casing, includes slash character. \n",
    "    - The directions require “lessons completed”, whereas the column header is “lesson completed”.\n",
    "- NaN value is present in Free/Reduced Price Lunch.\n",
    "- Benchmark value format is inconsistent.\n",
    "- Since Math scores are the focus, I'll need to check & filter the subject column.\n",
    "- Since Grade Level determines access to the Usage file, I'll need to check and filter the grade_level column."
   ]
  },
  {
   "cell_type": "code",
   "execution_count": 60,
   "metadata": {},
   "outputs": [],
   "source": [
    "# Normalize headers\n",
    "\n",
    "custom_mappings = {\n",
    "    'lesson_completed': 'lessons_completed',\n",
    "    'id': 'student_id'\n",
    "}\n",
    "\n",
    "for name, df in dataframes:\n",
    "    df.columns = df.columns.str.lower().str.replace(' ', '_').str.replace('/', '_').str.replace(r'[^\\w]', '')\n",
    "    if custom_mappings:\n",
    "        df.rename(columns=custom_mappings, inplace=True)\n"
   ]
  },
  {
   "cell_type": "markdown",
   "metadata": {},
   "source": [
    "# Analyze Data in Preparation for Merge"
   ]
  },
  {
   "cell_type": "code",
   "execution_count": 52,
   "metadata": {},
   "outputs": [
    {
     "name": "stdout",
     "output_type": "stream",
     "text": [
      "SIS Data Info:\n",
      "<class 'pandas.core.frame.DataFrame'>\n",
      "RangeIndex: 783 entries, 0 to 782\n",
      "Data columns (total 5 columns):\n",
      " #   Column                    Non-Null Count  Dtype \n",
      "---  ------                    --------------  ----- \n",
      " 0   student_id                783 non-null    int64 \n",
      " 1   grade_level               783 non-null    int64 \n",
      " 2   race_ethnicity            736 non-null    object\n",
      " 3   gender                    783 non-null    object\n",
      " 4   free_reduced_price_lunch  669 non-null    object\n",
      "dtypes: int64(2), object(3)\n",
      "memory usage: 30.7+ KB\n",
      "\n",
      "\n",
      "Assessment Data Info:\n",
      "<class 'pandas.core.frame.DataFrame'>\n",
      "RangeIndex: 1280 entries, 0 to 1279\n",
      "Data columns (total 4 columns):\n",
      " #   Column          Non-Null Count  Dtype \n",
      "---  ------          --------------  ----- \n",
      " 0   student_id      1280 non-null   int64 \n",
      " 1   student_number  1280 non-null   int64 \n",
      " 2   subject         1280 non-null   object\n",
      " 3   score           1280 non-null   int64 \n",
      "dtypes: int64(3), object(1)\n",
      "memory usage: 40.1+ KB\n",
      "\n",
      "\n",
      "Usage Data Info:\n",
      "<class 'pandas.core.frame.DataFrame'>\n",
      "RangeIndex: 349 entries, 0 to 348\n",
      "Data columns (total 7 columns):\n",
      " #   Column             Non-Null Count  Dtype  \n",
      "---  ------             --------------  -----  \n",
      " 0   student_id         349 non-null    int64  \n",
      " 1   lessons_completed  349 non-null    int64  \n",
      " 2   benchmark_1_level  349 non-null    object \n",
      " 3   benchmark_2_level  349 non-null    object \n",
      " 4   benchmark_3_level  349 non-null    object \n",
      " 5   benchmark_4_level  349 non-null    object \n",
      " 6   total_minutes      349 non-null    float64\n",
      "dtypes: float64(1), int64(2), object(4)\n",
      "memory usage: 19.2+ KB\n",
      "\n",
      "\n"
     ]
    }
   ],
   "source": [
    "for name, df in dataframes:\n",
    "    print(name, \"Info:\")\n",
    "    df.info()\n",
    "    print(\"\\n\")"
   ]
  },
  {
   "cell_type": "markdown",
   "metadata": {},
   "source": [
    "<div class=\"alert alert-block alert-success\">\n",
    "<b>Data Type Consistency</b> Column Data Types are as expected. Student ID's and other int-expected columns are integers. Columns with expected string values are objects. Total minutes are floats.\n",
    "</div>"
   ]
  },
  {
   "cell_type": "markdown",
   "metadata": {},
   "source": [
    "<div class=\"alert alert-block alert-warning\">\n",
    "<b>Null or NaN:</b> I can see there are Null or NaN values in the SIS Data for columns race/ethnicity and free/reduced price lunch, but these are non-essential columns.\n",
    "</div>"
   ]
  },
  {
   "cell_type": "markdown",
   "metadata": {},
   "source": [
    "## Check ID Columns"
   ]
  },
  {
   "cell_type": "code",
   "execution_count": 38,
   "metadata": {},
   "outputs": [
    {
     "data": {
      "text/plain": [
       "count    7.830000e+02\n",
       "mean     1.254464e+06\n",
       "std      2.261769e+02\n",
       "min      1.254073e+06\n",
       "25%      1.254268e+06\n",
       "50%      1.254464e+06\n",
       "75%      1.254660e+06\n",
       "max      1.254855e+06\n",
       "Name: student_id, dtype: float64"
      ]
     },
     "execution_count": 38,
     "metadata": {},
     "output_type": "execute_result"
    }
   ],
   "source": [
    "# SIS IDs\n",
    "sis_data.describe()['student_id']"
   ]
  },
  {
   "cell_type": "code",
   "execution_count": 42,
   "metadata": {},
   "outputs": [
    {
     "data": {
      "text/plain": [
       "count    1.280000e+03\n",
       "mean     1.254502e+06\n",
       "std      1.848241e+02\n",
       "min      1.254183e+06\n",
       "25%      1.254343e+06\n",
       "50%      1.254502e+06\n",
       "75%      1.254662e+06\n",
       "max      1.254822e+06\n",
       "Name: student_id, dtype: float64"
      ]
     },
     "execution_count": 42,
     "metadata": {},
     "output_type": "execute_result"
    }
   ],
   "source": [
    "# Assessment IDs\n",
    "assessment_data.describe()['student_id']"
   ]
  },
  {
   "cell_type": "code",
   "execution_count": 43,
   "metadata": {},
   "outputs": [
    {
     "data": {
      "text/plain": [
       "count    3.490000e+02\n",
       "mean     1.254239e+06\n",
       "std      1.008919e+02\n",
       "min      1.254065e+06\n",
       "25%      1.254152e+06\n",
       "50%      1.254239e+06\n",
       "75%      1.254326e+06\n",
       "max      1.254413e+06\n",
       "Name: student_id, dtype: float64"
      ]
     },
     "execution_count": 43,
     "metadata": {},
     "output_type": "execute_result"
    }
   ],
   "source": [
    "# Usage IDs\n",
    "usage_data.describe()['student_id']"
   ]
  },
  {
   "cell_type": "markdown",
   "metadata": {},
   "source": [
    "<div class=\"alert alert-block alert-success\">\n",
    "<b>No Messy Data in ID Columns</b> There are no outliers, negatives, zeros, or placeholder data in the Student ID columns in any data set.\n",
    "</div>"
   ]
  },
  {
   "cell_type": "markdown",
   "metadata": {},
   "source": [
    "<div class=\"alert alert-block alert-info\">\n",
    "<b>Different IDs</b> Min & max ID's are different in all dataframes indicating different student exist in both. However, this is to be expected since Assessement Data includes ELA, while Usage Data is Math only.\n",
    "</div>"
   ]
  },
  {
   "cell_type": "markdown",
   "metadata": {},
   "source": [
    "### Check ID Columns for Duplicates"
   ]
  },
  {
   "cell_type": "code",
   "execution_count": 59,
   "metadata": {},
   "outputs": [
    {
     "name": "stdout",
     "output_type": "stream",
     "text": [
      "SIS Data has duplicates?: False\n",
      "Assessment Data has duplicates?: True\n",
      "Usage Data has duplicates?: False\n"
     ]
    }
   ],
   "source": [
    "for name, df in dataframes:\n",
    "    print(f\"{name} has duplicates?: {df['student_id'].duplicated().any()}\")"
   ]
  },
  {
   "cell_type": "markdown",
   "metadata": {},
   "source": [
    "<div class=\"alert alert-block alert-info\">\n",
    "<b>Duplicates as Expected:</b> Assessment Data has student scores for both Math & ELA. SIS & Usage have no duplicates. Assessment Data will need to be handled accordingly.\n",
    "</div>"
   ]
  },
  {
   "cell_type": "markdown",
   "metadata": {},
   "source": [
    "## Check Other Columns"
   ]
  },
  {
   "cell_type": "code",
   "execution_count": 53,
   "metadata": {},
   "outputs": [
    {
     "name": "stdout",
     "output_type": "stream",
     "text": [
      "Checking SIS Data...\n",
      "No numerical inconsistencies found.\n",
      "Checking Assessment Data...\n",
      "No numerical inconsistencies found.\n",
      "Checking Usage Data...\n",
      "No numerical inconsistencies found.\n"
     ]
    }
   ],
   "source": [
    "# Numerical columns to check\n",
    "specific_columns = ['grade_level', 'score', 'lessons_completed', 'total_minutes', 'student_number']\n",
    "\n",
    "# Check specific columns for values less than 0\n",
    "for name, df in dataframes:\n",
    "    print(f\"Checking {name}...\")\n",
    "    found = False\n",
    "    for column in specific_columns:\n",
    "        if column in df.columns and pd.api.types.is_numeric_dtype(df[column]):\n",
    "            if (df[column] < 0).any():\n",
    "                print(f\"  Column '{column}' in {name} has values less than 0.\")\n",
    "                found = True\n",
    "\n",
    "    if (not found):\n",
    "        print(\"No numerical inconsistencies found.\")"
   ]
  },
  {
   "cell_type": "code",
   "execution_count": 55,
   "metadata": {},
   "outputs": [
    {
     "name": "stdout",
     "output_type": "stream",
     "text": [
      "[7 5 8 6]\n"
     ]
    }
   ],
   "source": [
    "# Check SIS Grade Levels are as expected (5-8)\n",
    "print(sis_data['grade_level'].unique())"
   ]
  },
  {
   "cell_type": "code",
   "execution_count": 56,
   "metadata": {},
   "outputs": [
    {
     "name": "stdout",
     "output_type": "stream",
     "text": [
      "['ELA' 'Math']\n"
     ]
    }
   ],
   "source": [
    "# Check Assessment Subjects are as expected (Math or ELA)\n",
    "print(assessment_data['subject'].unique())"
   ]
  },
  {
   "cell_type": "markdown",
   "metadata": {},
   "source": [
    "## Handle Assessment Data"
   ]
  },
  {
   "cell_type": "code",
   "execution_count": 61,
   "metadata": {},
   "outputs": [
    {
     "name": "stdout",
     "output_type": "stream",
     "text": [
      "<class 'pandas.core.frame.DataFrame'>\n",
      "Index: 640 entries, 3 to 1279\n",
      "Data columns (total 4 columns):\n",
      " #   Column          Non-Null Count  Dtype \n",
      "---  ------          --------------  ----- \n",
      " 0   student_id      640 non-null    int64 \n",
      " 1   student_number  640 non-null    int64 \n",
      " 2   subject         640 non-null    object\n",
      " 3   score           640 non-null    int64 \n",
      "dtypes: int64(3), object(1)\n",
      "memory usage: 25.0+ KB\n"
     ]
    }
   ],
   "source": [
    "# Split Assessment Data into Math vs ELA\n",
    "assessment_ela = assessment_data[assessment_data['subject'] == 'ELA']\n",
    "assessment_math = assessment_data[assessment_data['subject'] == 'Math']\n",
    "\n",
    "assessment_math.info()"
   ]
  },
  {
   "cell_type": "code",
   "execution_count": 62,
   "metadata": {},
   "outputs": [],
   "source": [
    "# Create list of new dataframes for ease of programming\n",
    "math_dataframes = [(\"SIS Data\", sis_data), (\"Assessment Data\", assessment_math), (\"Usage Data\", usage_data)]\n"
   ]
  },
  {
   "cell_type": "code",
   "execution_count": 63,
   "metadata": {
    "scrolled": true
   },
   "outputs": [
    {
     "name": "stdout",
     "output_type": "stream",
     "text": [
      "SIS Data has duplicates?: False\n",
      "Assessment Data has duplicates?: False\n",
      "Usage Data has duplicates?: False\n"
     ]
    }
   ],
   "source": [
    "for name, df in math_dataframes:\n",
    "    print(f\"{name} has duplicates?: {df['student_id'].duplicated().any()}\")"
   ]
  },
  {
   "cell_type": "markdown",
   "metadata": {},
   "source": [
    "<div class=\"alert alert-block alert-success\">\n",
    "<b>No Duplicate IDs Found</b> No duplicates found after removing ELA from Assessments\n",
    "</div>"
   ]
  },
  {
   "cell_type": "code",
   "execution_count": 68,
   "metadata": {},
   "outputs": [
    {
     "name": "stdout",
     "output_type": "stream",
     "text": [
      "IDs in Assessment but not in SIS: 0\n",
      "IDs in Usage but not in SIS: 8\n",
      "IDs in SIS but not in Assessment: 143\n",
      "IDs in SIS but not in Usage: 442\n",
      "IDs in Assessment but not in Usage: 409\n",
      "IDs in Usage but not in Assessment: 118\n"
     ]
    }
   ],
   "source": [
    "# Comparing Intersections, Differences between data\n",
    "assessment_ids = np.array(assessment_math['student_id'])\n",
    "usage_ids = np.array(usage_data['student_id'])\n",
    "sis_ids = np.array(sis_data['student_id'])\n",
    "\n",
    "sis_assess_intersection = np.intersect1d(assessment_ids, sis_ids)\n",
    "usage_assess_intersection = np.intersect1d(assessment_ids, usage_ids)\n",
    "# print(\"Common IDs between assessment and SIS:\", len(sis_assess_intersection))\n",
    "# print(\"Common IDs between assessment and Usage:\", len(usage_assess_intersection))\n",
    "\n",
    "print(\"IDs in Assessment but not in SIS:\", len(np.setdiff1d(assessment_ids, sis_ids)))\n",
    "print(\"IDs in Usage but not in SIS:\", len(np.setdiff1d(usage_ids, sis_ids)))\n",
    "\n",
    "print(\"IDs in SIS but not in Assessment:\", len(np.setdiff1d(sis_ids, assessment_ids)))\n",
    "print(\"IDs in SIS but not in Usage:\", len(np.setdiff1d(sis_ids, usage_ids)))\n",
    "\n",
    "print(\"IDs in Assessment but not in Usage:\", len(np.setdiff1d(assessment_ids, usage_ids)))\n",
    "print(\"IDs in Usage but not in Assessment:\", len(np.setdiff1d(usage_ids, assessment_ids)))\n"
   ]
  },
  {
   "cell_type": "markdown",
   "metadata": {},
   "source": [
    "## Handle Usage Data"
   ]
  },
  {
   "cell_type": "code",
   "execution_count": 71,
   "metadata": {},
   "outputs": [
    {
     "name": "stdout",
     "output_type": "stream",
     "text": [
      "Unique values in benchmark_1_level: ['level 2' 'level 3' 'level 1' 'level4']\n",
      "Unique values in benchmark_2_level: ['level 1' 'level 2' 'level 3' 'level4']\n",
      "Unique values in benchmark_3_level: ['level 3' 'level4' 'level 1' 'level 2']\n",
      "Unique values in benchmark_4_level: ['level 2' 'level 1' 'level4' 'level 3']\n"
     ]
    }
   ],
   "source": [
    "# Check Usage Benchmarks\n",
    "for col in ['benchmark_1_level', 'benchmark_2_level', 'benchmark_3_level', 'benchmark_4_level']:\n",
    "    print(f\"Unique values in {col}: {usage_data[col].unique()}\")"
   ]
  },
  {
   "cell_type": "code",
   "execution_count": 72,
   "metadata": {},
   "outputs": [
    {
     "data": {
      "image/png": "[encoded data removed]",
      "text/plain": [
       "<Figure size 640x480 with 1 Axes>"
      ]
     },
     "metadata": {},
     "output_type": "display_data"
    }
   ],
   "source": [
    "# Benchmark level distribution\n",
    "melted = usage_data.melt(id_vars=['student_id'], \n",
    "                       value_vars=['benchmark_1_level', 'benchmark_2_level', 'benchmark_3_level', 'benchmark_4_level'], \n",
    "                       var_name='benchmark', \n",
    "                       value_name='level')\n",
    "\n",
    "sb.countplot(data=melted, x='level', hue='benchmark', order=['level 1', 'level 2', 'level 3', 'level4'])\n",
    "plt.title(\"Benchmark Levels Distribution\")\n",
    "plt.show()\n"
   ]
  },
  {
   "cell_type": "markdown",
   "metadata": {},
   "source": [
    "# Merge Data\n",
    "- Use SIS data as base, into which other data is merged"
   ]
  },
  {
   "cell_type": "code",
   "execution_count": 69,
   "metadata": {},
   "outputs": [
    {
     "name": "stdout",
     "output_type": "stream",
     "text": [
      "   student_id  grade_level          race_ethnicity gender  \\\n",
      "0     1254353            7                   White   Male   \n",
      "1     1254135            5                   White   Male   \n",
      "2     1254423            8  Black/African American   Male   \n",
      "3     1254598            8                   White   Male   \n",
      "4     1254562            6  Black/African American   Male   \n",
      "\n",
      "  free_reduced_price_lunch  lessons_completed benchmark_1_level  \\\n",
      "0                       No               24.0           level 2   \n",
      "1                      NaN                1.0           level 2   \n",
      "2            Reduced Price                NaN               NaN   \n",
      "3                     Free                NaN               NaN   \n",
      "4                       No                NaN               NaN   \n",
      "\n",
      "  benchmark_2_level benchmark_3_level benchmark_4_level  total_minutes  \\\n",
      "0           level 2           level 2           level 2      21.040558   \n",
      "1           level 2           level 3           level 3      53.124390   \n",
      "2               NaN               NaN               NaN            NaN   \n",
      "3               NaN               NaN               NaN            NaN   \n",
      "4               NaN               NaN               NaN            NaN   \n",
      "\n",
      "   student_number subject  score  \n",
      "0      54912313.0    Math  289.0  \n",
      "1             NaN     NaN    NaN  \n",
      "2      54912383.0    Math  614.0  \n",
      "3      54912558.0    Math  578.0  \n",
      "4      54912522.0    Math  395.0  \n"
     ]
    }
   ],
   "source": [
    "# Merge SIS and Usage\n",
    "merged_df = sis_data.merge(usage_data, on='student_id', how='left')\n",
    "\n",
    "# Merge the result with Assessment\n",
    "merged_df = merged_df.merge(assessment_math, on='student_id', how='left')\n",
    "\n",
    "# Display the merged dataset\n",
    "print(merged_df.head())\n"
   ]
  },
  {
   "cell_type": "markdown",
   "metadata": {},
   "source": [
    "# Scratch Pad\n",
    "### Considerations\n",
    "- Pull student_numbers from ELA table to merged table?\n",
    "- "
   ]
  },
  {
   "cell_type": "code",
   "execution_count": 29,
   "metadata": {
    "scrolled": true
   },
   "outputs": [
    {
     "name": "stdout",
     "output_type": "stream",
     "text": [
      "           id  student_number subject  score\n",
      "0     1254397        54912357     ELA    190\n",
      "1     1254204        54912164     ELA    567\n",
      "2     1254785        54912745     ELA    390\n",
      "3     1254308        54912268    Math    719\n",
      "4     1254560        54912520     ELA    394\n",
      "...       ...             ...     ...    ...\n",
      "1275  1254205        54912165     ELA    615\n",
      "1276  1254564        54912524     ELA    382\n",
      "1277  1254424        54912384    Math    750\n",
      "1278  1254358        54912318     ELA    304\n",
      "1279  1254500        54912460    Math    105\n",
      "\n",
      "[1280 rows x 4 columns]\n"
     ]
    }
   ],
   "source": [
    "# Identify Duplicate ID rows\n",
    "\n",
    "assessment_duplicate_rows = assessment_data[assessment_data.duplicated(subset=['id'], keep=False)]\n",
    "print(assessment_duplicate_rows)"
   ]
  },
  {
   "cell_type": "code",
   "execution_count": 49,
   "metadata": {},
   "outputs": [
    {
     "name": "stdout",
     "output_type": "stream",
     "text": [
      "Checking SIS Data...\n",
      "No inconsistencies found.\n",
      "Checking Assessment Data...\n",
      "No inconsistencies found.\n",
      "Checking Usage Data...\n",
      "No inconsistencies found.\n"
     ]
    }
   ],
   "source": [
    "for name, df in dataframes:\n",
    "    print(f\"Checking {name}...\")\n",
    "    found = False\n",
    "    for column in df.select_dtypes(include=['int64', 'float64']).columns:\n",
    "        if (df[column] < 0).any():\n",
    "            print(f\"  Column '{column}' in {name} has values less than 1.\")\n",
    "            found = True\n",
    "\n",
    "    \n",
    "    if (not found):\n",
    "        print(\"No inconsistencies found.\")"
   ]
  },
  {
   "cell_type": "code",
   "execution_count": 24,
   "metadata": {},
   "outputs": [
    {
     "name": "stdout",
     "output_type": "stream",
     "text": [
      "SIS Invalid IDs: Empty DataFrame\n",
      "Columns: [student_id, grade_level, race_ethnicity, gender, Free/Reduced Price Lunch]\n",
      "Index: []\n",
      "Assessment Invalid IDs: Empty DataFrame\n",
      "Columns: [id, student_number, subject, score]\n",
      "Index: []\n",
      "Assessment Invalid Nums: Empty DataFrame\n",
      "Columns: [id, student_number, subject, score]\n",
      "Index: []\n",
      "Usage Invalid IDs: Empty DataFrame\n",
      "Columns: [student_id, lesson completed, benchmark_1_level, benchmark_2_level, benchmark_3_level, benchmark_4_level, total_minutes]\n",
      "Index: []\n"
     ]
    }
   ],
   "source": [
    "# Confirm ID columns have no negative or zero values\n",
    "sis_invalid_ids = sis_data['student_id'] <= 0\n",
    "print(\"SIS Invalid IDs:\", sis_data[sis_invalid_ids])\n",
    "\n",
    "assessment_invalid_ids = assessment_data['id'] <= 0\n",
    "print(\"Assessment Invalid IDs:\", assessment_data[assessment_invalid_ids])\n",
    "\n",
    "assessment_invalid_nums = assessment_data['student_number'] <= 0\n",
    "print(\"Assessment Invalid Nums:\", assessment_data[assessment_invalid_nums])\n",
    "\n",
    "usage_invalid_ids = usage_data['student_id'] <= 0\n",
    "print(\"Usage Invalid IDs:\", usage_data[usage_invalid_ids])"
   ]
  },
  {
   "cell_type": "code",
   "execution_count": 12,
   "metadata": {},
   "outputs": [
    {
     "name": "stdout",
     "output_type": "stream",
     "text": [
      "Total number of problematic values: 0\n"
     ]
    }
   ],
   "source": [
    "# Total problematic values (NaN + blank)\n",
    "total_issues = (assessment_data['id'].isnull() | assessment_data['id'].astype(str).str.strip().eq('')).sum()\n",
    "print(\"Total number of problematic values:\", total_issues)"
   ]
  }
 ],
 "metadata": {
  "kernelspec": {
   "display_name": "Python 3 (ipykernel)",
   "language": "python",
   "name": "python3"
  },
  "language_info": {
   "codemirror_mode": {
    "name": "ipython",
    "version": 3
   },
   "file_extension": ".py",
   "mimetype": "text/x-python",
   "name": "python",
   "nbconvert_exporter": "python",
   "pygments_lexer": "ipython3",
   "version": "3.9.21"
  }
 },
 "nbformat": 4,
 "nbformat_minor": 4
}
